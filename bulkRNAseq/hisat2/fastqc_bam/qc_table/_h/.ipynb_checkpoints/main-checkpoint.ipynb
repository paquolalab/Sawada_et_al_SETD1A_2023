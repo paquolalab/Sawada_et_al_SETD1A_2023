{
 "cells": [
  {
   "cell_type": "code",
   "execution_count": null,
   "id": "a5950e93-7a9e-48c5-aca7-33114fd92d82",
   "metadata": {},
   "outputs": [],
   "source": [
    "suppressMessages({\n",
    "    options(stringsAsFactors = F)\n",
    "    library(tidyverse)\n",
    "    library(data.table)\n",
    "    })"
   ]
  },
  {
   "cell_type": "code",
   "execution_count": null,
   "id": "64913a90-3240-4f19-8456-a5d3769182b2",
   "metadata": {},
   "outputs": [],
   "source": [
    "metadata <- fread('../../../metadata/_m/metadata.tsv')\n",
    "head(metadata)"
   ]
  },
  {
   "cell_type": "code",
   "execution_count": null,
   "id": "2c7b7519-e08a-433d-880f-e3392b3648c4",
   "metadata": {},
   "outputs": [],
   "source": [
    "#qc <- fread('../../_m/XPD_RNA-seq_multiqc_report_data/multiqc_general_stats.txt')\n",
    "#qc\n",
    "\n",
    "qc <- fread('../../_m/XPD_RNA-seq_multiqc_report_data/multiqc_fastqc.txt')\n",
    "qc"
   ]
  },
  {
   "cell_type": "code",
   "execution_count": null,
   "id": "dad2aa83-1b34-4f64-9aa0-9bbd1ba7729b",
   "metadata": {},
   "outputs": [],
   "source": [
    "newdf <- left_join(metadata,qc, by=c('New_SampleID2'='Sample')) %>%\n",
    "        select(-Filename)\n",
    "newdf"
   ]
  },
  {
   "cell_type": "code",
   "execution_count": null,
   "id": "8a85773e-ab30-4170-bb7d-390461ae44eb",
   "metadata": {},
   "outputs": [],
   "source": [
    "fwrite(newdf, 'metadata_fastqc.tsv',row.names=F,quote=F,sep='\\t')"
   ]
  },
  {
   "cell_type": "code",
   "execution_count": null,
   "id": "b5d23f30-0e9c-4d21-a4a2-defed0cdcf2f",
   "metadata": {},
   "outputs": [],
   "source": []
  }
 ],
 "metadata": {
  "kernelspec": {
   "display_name": "R",
   "language": "R",
   "name": "ir"
  },
  "language_info": {
   "codemirror_mode": "r",
   "file_extension": ".r",
   "mimetype": "text/x-r-source",
   "name": "R",
   "pygments_lexer": "r",
   "version": "4.1.2"
  }
 },
 "nbformat": 4,
 "nbformat_minor": 5
}
