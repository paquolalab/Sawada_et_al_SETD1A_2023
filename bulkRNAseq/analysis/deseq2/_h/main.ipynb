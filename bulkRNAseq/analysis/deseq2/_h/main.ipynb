{
 "cells": [
  {
   "cell_type": "markdown",
   "id": "48ff8e53-51a6-4305-ae8e-4e8004224503",
   "metadata": {},
   "source": [
    "# DESeq2 Analysis of Neuron and NPCs for SETD1a paper revisions"
   ]
  },
  {
   "cell_type": "markdown",
   "id": "188bdcca-2a88-4d7b-b73e-3075c2dd14e5",
   "metadata": {},
   "source": [
    "# Install and Load Packages"
   ]
  },
  {
   "cell_type": "code",
   "execution_count": null,
   "id": "8aaab0a9-797e-4ff6-9521-f40d185ffdb4",
   "metadata": {},
   "outputs": [],
   "source": [
    "suppressMessages({\n",
    "    library(tidyverse)\n",
    "    library(BiocManager)\n",
    "    library(DESeq2)\n",
    "    library(GenomicFeatures)\n",
    "    library(SummarizedExperiment)\n",
    "    library(openxlsx)\n",
    "    library(EnhancedVolcano)\n",
    "    library(data.table)\n",
    "    })"
   ]
  },
  {
   "cell_type": "markdown",
   "id": "9ce25f7a-d279-4a28-8da7-d5c9bb7a1587",
   "metadata": {},
   "source": [
    "# Import and Format Data Structures"
   ]
  },
  {
   "cell_type": "markdown",
   "id": "783fae74-a108-4f97-b6f8-bfdb429e54b0",
   "metadata": {},
   "source": [
    "## Metadata"
   ]
  },
  {
   "cell_type": "code",
   "execution_count": null,
   "id": "0ab1abb5-95a9-4b07-8d6d-10c9ef01bacb",
   "metadata": {},
   "outputs": [],
   "source": [
    "metaData <- read.xlsx('/ceph/projects/tomoyo_SETD1A_bulk_RNA-seq/Meta_sample_info/120522_Sample_metadata.xlsx', colNames=TRUE, startRow = 1)\n",
    "\n",
    "head(metaData)\n",
    "\n",
    "dim(metaData)"
   ]
  },
  {
   "cell_type": "code",
   "execution_count": null,
   "id": "7017e22f-d6a4-4370-a43f-ddbfbdba6d39",
   "metadata": {},
   "outputs": [],
   "source": [
    "head(colnames(metaData))\n",
    "colnames(metaData) <- gsub(\"\\\\.\", \"_\", colnames(metaData))\n",
    "colnames(metaData) <- gsub(\"-\", \"_\", colnames(metaData))\n",
    "head(colnames(metaData))"
   ]
  },
  {
   "cell_type": "code",
   "execution_count": null,
   "id": "68e99d9e-c9aa-4fcb-a662-813a9120aa44",
   "metadata": {},
   "outputs": [],
   "source": [
    "table(metaData$DEG_Set_1)\n",
    "table(metaData$DEG_Set_2)"
   ]
  },
  {
   "cell_type": "code",
   "execution_count": null,
   "id": "570a26dd-7e2f-47ef-91d4-49d9beec3873",
   "metadata": {},
   "outputs": [],
   "source": [
    "npcMetaData <- filter(metaData, DEG_Set_1 == \"Hetero\" | DEG_Set_1 == \"WT\")\n",
    "head(npcMetaData)\n",
    "dim(npcMetaData)"
   ]
  },
  {
   "cell_type": "code",
   "execution_count": null,
   "id": "4c4b0628-a63d-4249-a97e-3529c66f42ce",
   "metadata": {},
   "outputs": [],
   "source": [
    "npcMetaData$DEG_Set_1\n"
   ]
  },
  {
   "cell_type": "code",
   "execution_count": null,
   "id": "08c5c9b6-35eb-407d-8868-207c858d4784",
   "metadata": {},
   "outputs": [],
   "source": [
    "row.names(npcMetaData) <- gsub(\"\\\\#\", \"\", npcMetaData$New_Sample_ID)\n",
    "head(npcMetaData)"
   ]
  },
  {
   "cell_type": "code",
   "execution_count": null,
   "id": "bee3cdab-847f-4b23-8e92-03d594e0876a",
   "metadata": {},
   "outputs": [],
   "source": [
    "neuroMetaData <- filter(metaData, DEG_Set_2 == \"Hetero\" | DEG_Set_2 == \"WT\")\n",
    "head(neuroMetaData)\n",
    "dim(neuroMetaData)"
   ]
  },
  {
   "cell_type": "code",
   "execution_count": null,
   "id": "0904b4ac-ddaf-46d4-abd3-bd5abf2434e0",
   "metadata": {},
   "outputs": [],
   "source": [
    "row.names(neuroMetaData) <- gsub(\"\\\\#\", \"\", neuroMetaData$New_Sample_ID)\n",
    "head(neuroMetaData)"
   ]
  },
  {
   "cell_type": "code",
   "execution_count": null,
   "id": "4920a711-1d7e-4da5-9dad-dca0cdc285c5",
   "metadata": {},
   "outputs": [],
   "source": [
    "neuroMetaData$DEG_Set_2"
   ]
  },
  {
   "cell_type": "markdown",
   "id": "e8dd0ddf-7fcb-4b6e-9c8c-e6526b5e3bcf",
   "metadata": {},
   "source": [
    "## Counts Data"
   ]
  },
  {
   "cell_type": "code",
   "execution_count": null,
   "id": "a064553c-60ea-4fb0-a100-79f208d4f869",
   "metadata": {},
   "outputs": [],
   "source": [
    "geneCounts <- as.data.frame(read_tsv(\"/ceph/projects/tomoyo_SETD1A_bulk_RNA-seq/fastq/hisat2/featurecounts_genes_M/count_table/_m/counts.tsv\", col_names = TRUE)) #read_tsv imported the data as a tibble, so I'll change that to \n",
    "geneCounts2 <- as.data.frame(read_tsv(\"/ceph/projects/tomoyo_SETD1A_bulk_RNA-seq_jun_2022/hisat2/featurecounts_genes_M/count_table/_m/counts.tsv\", col_names = TRUE))\n",
    "head(geneCounts) \n",
    "dim(geneCounts)\n",
    "head(geneCounts2)\n",
    "dim(geneCounts2)\n"
   ]
  },
  {
   "cell_type": "code",
   "execution_count": null,
   "id": "c659bba2-eb3b-41bd-aa13-737ab8e9feef",
   "metadata": {},
   "outputs": [],
   "source": [
    "geneCounts[12, 1:15]"
   ]
  },
  {
   "cell_type": "code",
   "execution_count": null,
   "id": "11608abd-95a8-42de-88de-6ea23964bbea",
   "metadata": {},
   "outputs": [],
   "source": [
    "#We only want the LIBD2c1_CM130_51_NPC sequencing data from the June 2022 sequencing run (I believe) so, to avoid duplicates, I'm removing this data column\n",
    "geneCounts <- dplyr::select(geneCounts,-LIBD2c1_CM130_51_NPC)\n",
    "head(geneCounts)\n",
    "dim(geneCounts)"
   ]
  },
  {
   "cell_type": "code",
   "execution_count": null,
   "id": "78865ba6-3575-430f-8ea4-ddf223ad39b4",
   "metadata": {},
   "outputs": [],
   "source": [
    "totalGeneCounts <- inner_join(geneCounts, geneCounts2, ) #Only genes that were detected in both sequencing runs\n",
    "dim(totalGeneCounts)\n",
    "head(totalGeneCounts)"
   ]
  },
  {
   "cell_type": "code",
   "execution_count": null,
   "id": "ddaf8c0a-c1f0-480a-9a92-b75d454c8355",
   "metadata": {},
   "outputs": [],
   "source": [
    "length(colnames(totalGeneCounts))\n",
    "length(unique(colnames(totalGeneCounts)))"
   ]
  },
  {
   "cell_type": "code",
   "execution_count": null,
   "id": "237137ae-6502-42cf-879d-f426ebd9f06a",
   "metadata": {},
   "outputs": [],
   "source": [
    "row.names(totalGeneCounts) <- totalGeneCounts$Geneid\n",
    "totalGeneCounts <- totalGeneCounts[,-1]\n",
    "head(totalGeneCounts)\n",
    "dim(totalGeneCounts)"
   ]
  },
  {
   "cell_type": "code",
   "execution_count": null,
   "id": "ddf58d6c-cd30-41ec-b724-a049bde9ab13",
   "metadata": {},
   "outputs": [],
   "source": [
    "row.names(npcMetaData) %in% colnames(totalGeneCounts)"
   ]
  },
  {
   "cell_type": "code",
   "execution_count": null,
   "id": "498f0502-68a4-4596-9963-80e9a37a8bfe",
   "metadata": {},
   "outputs": [],
   "source": [
    "row.names(neuroMetaData) %in% colnames(totalGeneCounts)"
   ]
  },
  {
   "cell_type": "code",
   "execution_count": null,
   "id": "546a7dac-2709-4163-ac90-f2aa2c8f8fbd",
   "metadata": {},
   "outputs": [],
   "source": []
  },
  {
   "cell_type": "code",
   "execution_count": null,
   "id": "eb425f5c-12e6-43f8-b435-fca66fc08d6b",
   "metadata": {},
   "outputs": [],
   "source": []
  },
  {
   "cell_type": "code",
   "execution_count": null,
   "id": "33b7f26a-d57f-41dc-8cb2-b4c30e570240",
   "metadata": {},
   "outputs": [],
   "source": [
    "npcgeneCounts <- totalGeneCounts[row.names(npcMetaData)]\n",
    "head(npcgeneCounts)"
   ]
  },
  {
   "cell_type": "code",
   "execution_count": null,
   "id": "2f60849c-eea3-48ab-8c5c-d11d4a4ccae7",
   "metadata": {},
   "outputs": [],
   "source": [
    "neurogeneCounts <- totalGeneCounts[row.names(neuroMetaData)]\n",
    "head(neurogeneCounts)\n",
    "dim(neurogeneCounts)"
   ]
  },
  {
   "cell_type": "code",
   "execution_count": null,
   "id": "4e4d332c-5c74-4b4c-bd71-2209ffa97ec1",
   "metadata": {},
   "outputs": [],
   "source": [
    "row.names(npcMetaData)"
   ]
  },
  {
   "cell_type": "code",
   "execution_count": null,
   "id": "35140d5a-c751-4f58-b55e-bf037e93ce88",
   "metadata": {},
   "outputs": [],
   "source": [
    "row.names(neuroMetaData)"
   ]
  },
  {
   "cell_type": "markdown",
   "id": "8071a680-2674-48b5-b798-fdcea97612e3",
   "metadata": {},
   "source": [
    "## Make se objects"
   ]
  },
  {
   "cell_type": "code",
   "execution_count": null,
   "id": "7e9a448a-a97f-433e-8fdd-9f138978c67f",
   "metadata": {},
   "outputs": [],
   "source": [
    "seNPC <- SummarizedExperiment(assays = list(counts=as.matrix(npcgeneCounts)), colData = npcMetaData)\n",
    "seNeuro <- SummarizedExperiment(assays = list(counts=as.matrix(neurogeneCounts)), colData = neuroMetaData)\n"
   ]
  },
  {
   "cell_type": "code",
   "execution_count": null,
   "id": "3d6a5a08-34dc-417b-ac30-cb826a5a03eb",
   "metadata": {},
   "outputs": [],
   "source": [
    "seNPC"
   ]
  },
  {
   "cell_type": "code",
   "execution_count": null,
   "id": "41bba69a-900a-40b6-bd2d-9c607fd28d7e",
   "metadata": {},
   "outputs": [],
   "source": [
    "seNeuro"
   ]
  },
  {
   "cell_type": "markdown",
   "id": "9f27cbfd-e3a1-4a30-a9dd-0d78ff4e4a76",
   "metadata": {},
   "source": [
    "## Create DDS objects"
   ]
  },
  {
   "cell_type": "code",
   "execution_count": null,
   "id": "3f4a49a6-c9bd-4273-9d30-2fd081ba5bd5",
   "metadata": {},
   "outputs": [],
   "source": [
    "ddsNPC <- DESeqDataSet(seNPC, ~iPSC_line + Seq_Run + DEG_Set_1)\n",
    "ddsNPC"
   ]
  },
  {
   "cell_type": "code",
   "execution_count": null,
   "id": "237122f1-beea-40b3-96b2-a25a88e6291a",
   "metadata": {},
   "outputs": [],
   "source": [
    "npcMetaData"
   ]
  },
  {
   "cell_type": "code",
   "execution_count": null,
   "id": "9476ef21-9e30-4fd3-8360-cc6454d1dc6c",
   "metadata": {},
   "outputs": [],
   "source": [
    "ddsNeuro <- DESeqDataSet(seNeuro, ~iPSC_line + Seq_Run + DEG_Set_2)\n",
    "ddsNeuro"
   ]
  },
  {
   "cell_type": "markdown",
   "id": "34bd220d-743a-4269-96ec-a124bb23a223",
   "metadata": {},
   "source": [
    "# Filter and Prepare for Analysis"
   ]
  },
  {
   "cell_type": "markdown",
   "id": "d1a89764-ec01-49e7-ba55-7ffcd4499272",
   "metadata": {},
   "source": [
    "## Relevel DDS objects"
   ]
  },
  {
   "cell_type": "code",
   "execution_count": null,
   "id": "ab51c83e-2df9-494c-8ef1-decb02981424",
   "metadata": {},
   "outputs": [],
   "source": [
    "levels(ddsNPC$DEG_Set_1)\n",
    "ddsNPC$DEG_Set_1 <- relevel(ddsNPC$DEG_Set_1, \"WT\")\n",
    "levels(ddsNPC$DEG_Set_1)"
   ]
  },
  {
   "cell_type": "code",
   "execution_count": null,
   "id": "6c1214db-0ebe-48da-b371-e834e67264a4",
   "metadata": {},
   "outputs": [],
   "source": [
    "levels(ddsNeuro$DEG_Set_2)\n",
    "ddsNeuro$DEG_Set_2 <- relevel(ddsNeuro$DEG_Set_2, \"WT\")\n",
    "levels(ddsNeuro$DEG_Set_2)"
   ]
  },
  {
   "cell_type": "markdown",
   "id": "ec2c8c56-23ab-4647-9d22-65dccf7f61cd",
   "metadata": {},
   "source": [
    "## Remove Genes Below Expression Threshold and Estimate Size Factors"
   ]
  },
  {
   "cell_type": "code",
   "execution_count": null,
   "id": "c5ac28fc-6e05-4931-8cbe-c9059fbd999c",
   "metadata": {},
   "outputs": [],
   "source": [
    "#Create vectors of minimally expressed genes\n",
    "thresholdGenesNPC <- rowSums(counts(ddsNPC)) >= 5\n",
    "thresholdGenesNeuro <- rowSums(counts(ddsNeuro)) >= 5"
   ]
  },
  {
   "cell_type": "code",
   "execution_count": null,
   "id": "6c49053d-801d-4f32-8716-281424997f66",
   "metadata": {},
   "outputs": [],
   "source": [
    "#Estimate Size Factors\n",
    "ddsNPC <- estimateSizeFactors(ddsNPC)\n",
    "ddsNeuro <- estimateSizeFactors(ddsNeuro)"
   ]
  },
  {
   "cell_type": "code",
   "execution_count": null,
   "id": "7946111c-4de7-47b9-91af-cbcc72fe35cf",
   "metadata": {},
   "outputs": [],
   "source": [
    "#Subset by minimally expressed gene vectors\n",
    "ddsNPC <- ddsNPC[thresholdGenesNPC,]\n",
    "ddsNeuro <- ddsNeuro[thresholdGenesNeuro,]"
   ]
  },
  {
   "cell_type": "code",
   "execution_count": null,
   "id": "26db4e57-0ac3-4b86-b8b3-72038b16d92f",
   "metadata": {},
   "outputs": [],
   "source": [
    "dim(ddsNPC)"
   ]
  },
  {
   "cell_type": "code",
   "execution_count": null,
   "id": "57862339-42cf-4952-85e7-e27fcba35a15",
   "metadata": {},
   "outputs": [],
   "source": [
    " dim(ddsNeuro)"
   ]
  },
  {
   "cell_type": "code",
   "execution_count": null,
   "id": "ebaa33cd-eff3-4c54-a73c-1eb97979ff33",
   "metadata": {},
   "outputs": [],
   "source": [
    "design(ddsNPC)\n",
    "design(ddsNeuro)\n"
   ]
  },
  {
   "cell_type": "markdown",
   "id": "bd1ff794-b705-4e93-9ae3-6f13c33df6e6",
   "metadata": {},
   "source": [
    "# Run DESeq Analysis"
   ]
  },
  {
   "cell_type": "code",
   "execution_count": null,
   "id": "2e390de0-1834-43eb-a67f-9ccc06e9ae00",
   "metadata": {},
   "outputs": [],
   "source": [
    "ddsNPC <- DESeq(ddsNPC)"
   ]
  },
  {
   "cell_type": "code",
   "execution_count": null,
   "id": "4ce39668-f352-41f4-84c7-f3241e3c5182",
   "metadata": {},
   "outputs": [],
   "source": [
    "ddsNeuro <- DESeq(ddsNeuro)"
   ]
  },
  {
   "cell_type": "markdown",
   "id": "a1b5a1dd-c6e1-4f83-ad37-1dce25d55dd9",
   "metadata": {},
   "source": [
    "## Write out counts data table"
   ]
  },
  {
   "cell_type": "code",
   "execution_count": null,
   "id": "9ffdbe13-23a9-4ec3-b2c1-5c920ad1c782",
   "metadata": {},
   "outputs": [],
   "source": [
    "# Read in gene annotation file from previous analysis\n",
    "\n",
    "namesTable <- read_tsv(file=\"/ceph/projects/tomoyo_SETD1A_bulk_RNA-seq/analysis/annotation/_m/annotation_gene-unique-info.tsv\", col_names = TRUE) %>% dplyr::select(c(\"gene_id\", \"gene_name\"))\n",
    "head(namesTable)\n",
    "dim(namesTable)\n"
   ]
  },
  {
   "cell_type": "code",
   "execution_count": null,
   "id": "a166cc8d-9ca5-4af0-b4fb-8efb910b0a5a",
   "metadata": {},
   "outputs": [],
   "source": [
    "df_NPC <- as.data.frame(assay(ddsNPC))\n",
    "head(df_NPC)\n",
    "\n",
    "df_Neuro <- as.data.frame(assay(ddsNeuro))\n",
    "head(df_Neuro)"
   ]
  },
  {
   "cell_type": "code",
   "execution_count": null,
   "id": "8d286391-5e27-476a-b736-dbfd16250099",
   "metadata": {},
   "outputs": [],
   "source": [
    "df_NPC$gene_id <- row.names(df_NPC)\n",
    "\n",
    "head(df_NPC)\n",
    "\n",
    "df_Neuro$gene_id <- row.names(df_Neuro)\n",
    "\n",
    "head(df_Neuro)"
   ]
  },
  {
   "cell_type": "code",
   "execution_count": null,
   "id": "8b998d58-f30b-404d-bb2e-65f313252034",
   "metadata": {},
   "outputs": [],
   "source": [
    "df_NPC <- left_join(df_NPC, namesTable, by = 'gene_id')\n",
    "head(df_NPC)\n",
    "\n",
    "df_Neuro <- left_join(df_Neuro, namesTable, by = 'gene_id')\n",
    "head(df_Neuro)"
   ]
  },
  {
   "cell_type": "code",
   "execution_count": null,
   "id": "10ba06d1-bf2f-4e02-ad8d-71d12545f41c",
   "metadata": {},
   "outputs": [],
   "source": [
    "output <- \"../_m/\"\n",
    "\n",
    "fwrite(df_NPC, \n",
    "       file = paste0(output,'NPCgeneCounts.tsv'),\n",
    "       quote=F,sep='\\t',\n",
    "       row.names=F)\n",
    "\n",
    "\n",
    "fwrite(df_NPC, \n",
    "       file = paste0(output,'NeurogeneCounts.tsv'),\n",
    "       quote=F,sep='\\t',\n",
    "       row.names=F)\n"
   ]
  },
  {
   "cell_type": "code",
   "execution_count": null,
   "id": "7c538f36-89ef-4f56-bd29-20e962bba24a",
   "metadata": {},
   "outputs": [],
   "source": [
    "## Normaling by Logfold2+1 changes"
   ]
  },
  {
   "cell_type": "code",
   "execution_count": null,
   "id": "09c500c4-8603-4713-8305-0c03170f560e",
   "metadata": {},
   "outputs": [],
   "source": [
    "tempNPC <- cbind(log2(df_NPC[,1:(length(df_NPC)-2)])+1, df_NPC[,-1:-(length(df_NPC)-2)])\n",
    "dim(tempNPC)\n",
    "\n",
    "fwrite(tempNPC,\n",
    "       file=paste0(output,'NPCgeneCounts_log2+1.tsv'),\n",
    "       quote=F,\n",
    "       sep='\\t',\n",
    "       row.names=F)\n",
    "\n",
    "tempNeuro <- cbind(log2(df_Neuro[,1:(length(df_Neuro)-2)])+1, df_Neuro[,-1:-(length(df_Neuro)-2)])\n",
    "dim(tempNeuro)\n",
    "\n",
    "fwrite(tempNeuro,\n",
    "       file=paste0(output,'NeurogeneCounts_log2+1.tsv'),\n",
    "       quote=F,\n",
    "       sep='\\t',\n",
    "       row.names=F)"
   ]
  },
  {
   "cell_type": "code",
   "execution_count": null,
   "id": "7ed63614-fc51-4473-9b9b-22c95af4f5ee",
   "metadata": {},
   "outputs": [],
   "source": []
  },
  {
   "cell_type": "code",
   "execution_count": null,
   "id": "c6c6c722-d446-4aff-9bfa-18d0f6a551d5",
   "metadata": {},
   "outputs": [],
   "source": [
    "head(df_NPC[,-1:-(length(df_NPC)-2)])\n",
    "head(df_NPC)"
   ]
  },
  {
   "cell_type": "code",
   "execution_count": null,
   "id": "e629fbaa-5fba-48b1-ad1d-acdabde79d2b",
   "metadata": {},
   "outputs": [],
   "source": []
  },
  {
   "cell_type": "markdown",
   "id": "bba18902-208c-4fd9-bd01-f42492100645",
   "metadata": {},
   "source": [
    "## Log Fold Change Adjustment"
   ]
  },
  {
   "cell_type": "code",
   "execution_count": null,
   "id": "2c8b3ecf-7b27-44fc-9060-591a17e7418a",
   "metadata": {},
   "outputs": [],
   "source": [
    "resNPC <- lfcShrink(ddsNPC, coef=paste0(resultsNames(ddsNPC)[length(resultsNames(ddsNPC))]),type='apeglm')"
   ]
  },
  {
   "cell_type": "code",
   "execution_count": null,
   "id": "9ae256aa-f260-4849-a299-2adfcd8dd113",
   "metadata": {},
   "outputs": [],
   "source": [
    "resNeuro <- lfcShrink(ddsNeuro, coef=paste0(resultsNames(ddsNeuro)[length(resultsNames(ddsNeuro))]),type='apeglm')"
   ]
  },
  {
   "cell_type": "code",
   "execution_count": null,
   "id": "34f81317-f5ca-46fe-89b8-6b05949fa1da",
   "metadata": {},
   "outputs": [],
   "source": [
    "resNPC"
   ]
  },
  {
   "cell_type": "code",
   "execution_count": null,
   "id": "d5756472-978c-40eb-bade-6a8dae2889c9",
   "metadata": {},
   "outputs": [],
   "source": [
    "resNeuro"
   ]
  },
  {
   "cell_type": "code",
   "execution_count": null,
   "id": "f7d9be8d-57ab-421e-b511-1d5ebd44bd74",
   "metadata": {},
   "outputs": [],
   "source": [
    "# filter(resNeuro$padj <0.05)\n",
    "# filter(resNeuro2$padj <0.05)"
   ]
  },
  {
   "cell_type": "code",
   "execution_count": null,
   "id": "27dc0180-ebd2-4335-a716-72fe16156fee",
   "metadata": {},
   "outputs": [],
   "source": [
    "# resNeuro %>% as.data.frame() %>% filter(pvalue < 0.05)\n",
    "resNPC %>% as.data.frame() %>% filter(padj < 0.1) %>% dim()\n",
    "\n",
    "resNeuro %>% as.data.frame() %>% filter(padj < 0.1) %>% dim()\n",
    "#dim(resNeuro %>% as.data.frame() %>% filter(pvalue < 0.05))"
   ]
  },
  {
   "cell_type": "code",
   "execution_count": null,
   "id": "29b68558-af6b-45af-9a21-e87e26b772ab",
   "metadata": {},
   "outputs": [],
   "source": [
    "\n"
   ]
  },
  {
   "cell_type": "markdown",
   "id": "f18953e9-6e46-4a60-ab08-ebd88d71eafb",
   "metadata": {},
   "source": [
    "# Results Plots"
   ]
  },
  {
   "cell_type": "code",
   "execution_count": null,
   "id": "4cba0e74-b18a-428a-a9c0-e56039301b75",
   "metadata": {},
   "outputs": [],
   "source": [
    "# MA Plots\n",
    "DESeq2::plotMA(resNPC)\n",
    "\n",
    "DESeq2::plotMA(resNPC, ylim= c(-3,3))\n",
    "\n",
    "DESeq2::plotMA(resNeuro)\n",
    "\n",
    "DESeq2::plotMA(resNeuro, ylim=c(-3,3))\n"
   ]
  },
  {
   "cell_type": "code",
   "execution_count": null,
   "id": "49af55ee-76a6-4a9b-8dcc-618714668ced",
   "metadata": {},
   "outputs": [],
   "source": [
    "#Dispersion Estimate Plots\n",
    "plotDispEsts(ddsNPC)\n",
    "\n",
    "plotDispEsts(ddsNeuro)\n"
   ]
  },
  {
   "cell_type": "code",
   "execution_count": null,
   "id": "eeca29a7-fd2d-41d4-8b1d-96e9b121e8c8",
   "metadata": {},
   "outputs": [],
   "source": [
    "#Volcano Plots"
   ]
  },
  {
   "cell_type": "code",
   "execution_count": null,
   "id": "33905f4a-a7fb-40fa-b609-2dfcd1077644",
   "metadata": {},
   "outputs": [],
   "source": []
  },
  {
   "cell_type": "markdown",
   "id": "5cd875e5-5b13-4f0a-aef5-c3f6aa8f6faa",
   "metadata": {},
   "source": [
    "# Adding Gene Names to Results Tables"
   ]
  },
  {
   "cell_type": "code",
   "execution_count": null,
   "id": "49852b25-8783-45e9-80d1-d48c85da5fa3",
   "metadata": {},
   "outputs": [],
   "source": [
    "head(resNPC)"
   ]
  },
  {
   "cell_type": "code",
   "execution_count": null,
   "id": "411d5219-d44e-4c65-af26-b52a53a49419",
   "metadata": {},
   "outputs": [],
   "source": [
    "resNPC$gene_id <- rownames(resNPC)\n",
    "head(resNPC)"
   ]
  },
  {
   "cell_type": "code",
   "execution_count": null,
   "id": "50efe549-99b5-4946-a839-cfa34824786d",
   "metadata": {},
   "outputs": [],
   "source": [
    "resNeuro$gene_id <- rownames(resNeuro)\n",
    "head(resNeuro)"
   ]
  },
  {
   "cell_type": "code",
   "execution_count": null,
   "id": "5bdc3143-ec4d-4e49-8b25-3902f11c8022",
   "metadata": {},
   "outputs": [],
   "source": [
    "resNPC_labeled <- left_join(as.data.frame(resNPC), namesTable, by = \"gene_id\")\n",
    "head(resNPC)\n",
    "head(resNPC_labeled)"
   ]
  },
  {
   "cell_type": "code",
   "execution_count": null,
   "id": "3c6cfaba-d52d-40a9-bf4b-600f5d0ae7c1",
   "metadata": {},
   "outputs": [],
   "source": [
    "resNeuro_labeled <- left_join(as.data.frame(resNeuro), namesTable, by = \"gene_id\")\n",
    "head(resNeuro)\n",
    "head(resNeuro_labeled)"
   ]
  },
  {
   "cell_type": "code",
   "execution_count": null,
   "id": "5366ea2b-acbe-449f-9bc1-3415d65faab6",
   "metadata": {},
   "outputs": [],
   "source": [
    "row.names(resNPC_labeled) <- resNPC_labeled$gene_id\n",
    "head(resNPC_labeled)"
   ]
  },
  {
   "cell_type": "code",
   "execution_count": null,
   "id": "bbfa2d7b-d06c-4813-b7bf-4a39d24dab9c",
   "metadata": {},
   "outputs": [],
   "source": [
    "row.names(resNeuro_labeled) <- resNeuro_labeled$gene_id\n",
    "head(resNeuro_labeled)"
   ]
  },
  {
   "cell_type": "code",
   "execution_count": null,
   "id": "e5624462-27c7-4e4c-bd48-f1274cc21bde",
   "metadata": {},
   "outputs": [],
   "source": [
    "EnhancedVolcano(resNPC_labeled,\n",
    "                lab = resNPC_labeled$gene_name,\n",
    "                x = 'log2FoldChange',\n",
    "                y = 'pvalue',\n",
    "                title = \"NPC Hetero vs WT\"\n",
    "               )"
   ]
  },
  {
   "cell_type": "code",
   "execution_count": null,
   "id": "e7d382a9-ea04-47b6-b20b-f8d1c4575cad",
   "metadata": {},
   "outputs": [],
   "source": [
    "EnhancedVolcano(resNeuro_labeled,\n",
    "                lab = resNeuro_labeled$gene_name,\n",
    "                x = 'log2FoldChange',\n",
    "                y = 'pvalue',\n",
    "                title = \"Neuro Hetero vs WT\"\n",
    "               )"
   ]
  },
  {
   "cell_type": "markdown",
   "id": "f8206b27-4a7e-4ec2-b0ae-55889802e2bc",
   "metadata": {},
   "source": [
    "# Comparison of t-statistics between NPCs and Neurons"
   ]
  },
  {
   "cell_type": "code",
   "execution_count": null,
   "id": "6df5b028-8176-4357-8203-1dd2241ba79e",
   "metadata": {},
   "outputs": [],
   "source": [
    "## Calculate t-stats"
   ]
  },
  {
   "cell_type": "code",
   "execution_count": null,
   "id": "0ea8a5e1-5307-49af-9201-1219755aeaf9",
   "metadata": {},
   "outputs": [],
   "source": [
    "head(resNPC_labeled)"
   ]
  },
  {
   "cell_type": "code",
   "execution_count": null,
   "id": "fa65efbb-0753-4911-a10d-18da6b3776b0",
   "metadata": {},
   "outputs": [],
   "source": [
    "t_stat_selection <- function(data, cell_type, cols = c(\"gene_id\",\"gene_name\", \"t_stat\", \"baseMean\", \"pvalue\", \"padj\", \"log2FoldChange\", \"lfcSE\")){\n",
    "    new <- mutate(data, t_stat = log2FoldChange / lfcSE)\n",
    "    new <- dplyr::select(new, one_of(cols))\n",
    "    colnames(new) <- c(colnames(new)[1:2], paste0(colnames(new)[3:length(colnames(new))], \"_\", cell_type))\n",
    "    new\n",
    "    }"
   ]
  },
  {
   "cell_type": "code",
   "execution_count": null,
   "id": "81fb21a5-3f6c-49b5-8043-d68b4da2d42c",
   "metadata": {},
   "outputs": [],
   "source": [
    "table(is.na(t_stat_selection(resNPC_labeled, \"npc\")$t_stat_npc))\n",
    "table(is.na(t_stat_selection(resNeuro_labeled, \"neuro\")$t_stat_neuro))"
   ]
  },
  {
   "cell_type": "code",
   "execution_count": null,
   "id": "b6e78449-6884-4e17-ba36-aa891754c1d1",
   "metadata": {},
   "outputs": [],
   "source": [
    "head(t_stat_selection(resNPC_labeled, \"npc\"))"
   ]
  },
  {
   "cell_type": "code",
   "execution_count": null,
   "id": "fa8f1d7b-debd-413e-855b-9ee958996079",
   "metadata": {},
   "outputs": [],
   "source": [
    "head(t_stat_selection(resNeuro_labeled, \"neuro\"))"
   ]
  },
  {
   "cell_type": "code",
   "execution_count": null,
   "id": "04b3e5ad-538b-495a-a9bf-eefad0f4d93a",
   "metadata": {
    "tags": []
   },
   "outputs": [],
   "source": [
    "t_stat_info <- inner_join(t_stat_selection(resNPC_labeled, \"npc\"), t_stat_selection(resNeuro_labeled, \"neuro\"), by = \"gene_id\")"
   ]
  },
  {
   "cell_type": "code",
   "execution_count": null,
   "id": "4da7a478-6a4f-40ac-b273-1ffa1c715cac",
   "metadata": {},
   "outputs": [],
   "source": [
    "head(t_stat_info)\n",
    "dim(t_stat_info)\n",
    "tail(t_stat_info)"
   ]
  },
  {
   "cell_type": "code",
   "execution_count": null,
   "id": "dc45b894-e303-4ea1-99e8-a3ad2d63298e",
   "metadata": {},
   "outputs": [],
   "source": [
    "dim(resNPC_labeled)\n",
    "dim(resNeuro_labeled)"
   ]
  },
  {
   "cell_type": "code",
   "execution_count": null,
   "id": "3c8ce76a-01ad-4cca-ab5b-c83a46deda24",
   "metadata": {},
   "outputs": [],
   "source": [
    "ggplot(data = t_stat_info) +\n",
    "(mapping = aes(t_stat_npc, t_stat_neuro)) +\n",
    "geom_smooth(method=lm) +\n",
    "geom_point() +\n",
    "coord_cartesian(xlim = c(-4,8), ylim=c(-4,8))+\n",
    "labs(title = \"t-statistics\") +\n",
    "theme_bw()"
   ]
  },
  {
   "cell_type": "code",
   "execution_count": null,
   "id": "7715b010-3f21-4088-a904-ff5e84b5e26d",
   "metadata": {},
   "outputs": [],
   "source": [
    "ggplot(data = t_stat_info) +\n",
    "(mapping = aes(baseMean_npc, baseMean_neuro)) +\n",
    "geom_smooth(method=lm) +\n",
    "geom_point() +\n",
    "coord_cartesian(xlim = c(0,1.2e05), ylim=c(0,1.2e05)) +\n",
    "labs(title = \"Base Mean Values\") +\n",
    "theme_bw()"
   ]
  },
  {
   "cell_type": "code",
   "execution_count": null,
   "id": "b0c9c0e2-f512-4043-adf8-2dfb689ce14b",
   "metadata": {},
   "outputs": [],
   "source": [
    "ggplot(data = t_stat_info) +\n",
    "(mapping = aes(log2FoldChange_npc, log2FoldChange_neuro)) +\n",
    "#geom_smooth(method=lm) +\n",
    "geom_point() +\n",
    "#coord_cartesian(xlim = c(0,1.2e05), ylim=c(0,1.2e05)) +\n",
    "labs(title = \"log2FoldChange\")+\n",
    "theme_bw()"
   ]
  },
  {
   "cell_type": "code",
   "execution_count": null,
   "id": "501fac98-56d2-42f1-89ab-93554cebfbd0",
   "metadata": {},
   "outputs": [],
   "source": [
    "ggplot(data = t_stat_info) +\n",
    "(mapping = aes(lfcSE_npc, lfcSE_neuro)) +\n",
    "geom_smooth(method=lm) +\n",
    "geom_point() +\n",
    "#coord_cartesian(xlim = c(0,1.2e05), ylim=c(0,1.2e05)) +\n",
    "labs(title = \"Log Fold Change Standard Errors\") +\n",
    "theme_bw()"
   ]
  },
  {
   "cell_type": "code",
   "execution_count": null,
   "id": "ce7ed4f0-6ae8-4006-aa90-2b0c1a699484",
   "metadata": {},
   "outputs": [],
   "source": [
    "sig_plot_data <- t_stat_info %>% dplyr::filter(pvalue_npc < 0.05) %>% dplyr::filter(pvalue_neuro < 0.05)"
   ]
  },
  {
   "cell_type": "code",
   "execution_count": null,
   "id": "b1d5c137-034d-49d2-8b41-84dcc8cf86fa",
   "metadata": {},
   "outputs": [],
   "source": [
    "ggplot(data = sig_plot_data) +\n",
    "(mapping = aes(t_stat_npc, t_stat_neuro)) +\n",
    "geom_smooth(method=lm, formula = y ~ x) +\n",
    "geom_point() +\n",
    "coord_cartesian(xlim = c(-4,6), ylim=c(-4,6))+\n",
    "labs(title = \"Comparison of t-statistics\", x = \"NPC t-statistics\", y = \"Neuron t-statistics\", subtitle = \"p < 0.05 for NPC AND p >0.05 for Neurons\") +\n",
    "theme_bw() +\n",
    "theme(text= element_text(size = 20))"
   ]
  },
  {
   "cell_type": "code",
   "execution_count": null,
   "id": "6e2edcc6-b933-4fb0-be65-5739b6f58bb3",
   "metadata": {},
   "outputs": [],
   "source": [
    "#sig_plot_data %>% dplyr::filter(t_stat_npc >2) %>% dplyr::filter(t_stat_neuro > 2)"
   ]
  },
  {
   "cell_type": "code",
   "execution_count": null,
   "id": "f97020a8-bc65-46b5-b6da-927303967db2",
   "metadata": {},
   "outputs": [],
   "source": [
    "head(sig_plot_data)\n",
    "dim(sig_plot_data)"
   ]
  },
  {
   "cell_type": "code",
   "execution_count": null,
   "id": "914bf3af-e235-42ef-bbdf-f241c0f602a7",
   "metadata": {},
   "outputs": [],
   "source": []
  },
  {
   "cell_type": "markdown",
   "id": "148efba3-29f8-47c7-803c-6050276a00ec",
   "metadata": {},
   "source": [
    "# Gene Exploration for Drug Discovery Team"
   ]
  },
  {
   "cell_type": "code",
   "execution_count": null,
   "id": "8b097d8d-070f-4849-aa3e-48ce8a1e93a8",
   "metadata": {},
   "outputs": [],
   "source": [
    "ddgenes <- read.xlsx(\"../../../metadata/_h/UPR_PAHS-089Y genelist (1).xlsx\", startRow = 1, colNames = FALSE)\n",
    "head(ddgenes)\n",
    "dim(ddgenes)"
   ]
  },
  {
   "cell_type": "code",
   "execution_count": null,
   "id": "bf13758d-6875-418c-a937-680163c54c34",
   "metadata": {},
   "outputs": [],
   "source": [
    "ddgenes_results <- t_stat_info %>% dplyr::filter(gene_name.x %in% ddgenes$X2)"
   ]
  },
  {
   "cell_type": "code",
   "execution_count": null,
   "id": "ea1ab64e-eca7-4b75-bde4-5890c12f098b",
   "metadata": {},
   "outputs": [],
   "source": [
    "head(ddgenes_results)\n",
    "dim(ddgenes_results)"
   ]
  },
  {
   "cell_type": "code",
   "execution_count": null,
   "id": "6f891175-c1eb-4784-92fa-814006f23e11",
   "metadata": {},
   "outputs": [],
   "source": [
    "ddgenes_results2 <- t_stat_info %>% dplyr::filter(gene_name.x %in% ddgenes$X3)\n",
    "head(ddgenes_results2)\n",
    "dim(ddgenes_results2)"
   ]
  },
  {
   "cell_type": "code",
   "execution_count": null,
   "id": "3011411f-9a0e-458f-961d-0ab242ef33e0",
   "metadata": {},
   "outputs": [],
   "source": [
    "ddgenes$X3"
   ]
  },
  {
   "cell_type": "code",
   "execution_count": null,
   "id": "f1db9956-471c-411c-9c4a-74df787e8e5a",
   "metadata": {},
   "outputs": [],
   "source": [
    "\"CHOP\" %in% t_stat_info$gene_name.x\n",
    "\"GADD153\" %in% t_stat_info$gene_name.x"
   ]
  },
  {
   "cell_type": "code",
   "execution_count": null,
   "id": "b46d53d9-480f-4540-bcb6-9efecd86fb46",
   "metadata": {},
   "outputs": [],
   "source": [
    "#There are 3 genes which are not found in the results table, but are in the list from drug discovery\n",
    "\n",
    "ddgenes[!(ddgenes$X2 %in% t_stat_info$gene_name.x),]"
   ]
  },
  {
   "cell_type": "code",
   "execution_count": null,
   "id": "df36c52b-2eda-4f75-b039-8f4ee9e8ba62",
   "metadata": {},
   "outputs": [],
   "source": [
    "ggplot(data = ddgenes_results) +\n",
    "(mapping = aes(t_stat_npc, t_stat_neuro)) +\n",
    "geom_smooth(method=lm) +\n",
    "geom_point() +\n",
    "coord_cartesian(xlim = c(-4,8), ylim=c(-4,8))+\n",
    "labs(title = \"t-statistics\") +\n",
    "theme_bw() +\n",
    "theme(text= element_text(size = 20)) +\n",
    "labs(title = \"Comparison of t-statistics\", x = \"NPC t-statistics\", y = \"Neuron t-statistics\")+\n",
    "theme_bw() +\n",
    "theme(text= element_text(size = 20))"
   ]
  },
  {
   "cell_type": "code",
   "execution_count": null,
   "id": "65799c64-e860-43f0-9c94-ba11a2ec3147",
   "metadata": {},
   "outputs": [],
   "source": [
    "ggplot(data = t_stat_info) +\n",
    "(mapping = aes(t_stat_npc, t_stat_neuro)) +\n",
    "geom_smooth(method=lm) +\n",
    "geom_point() +\n",
    "coord_cartesian(xlim = c(-4,8), ylim=c(-4,8))+\n",
    "labs(title = \"t-statistics\") +\n",
    "theme_bw() +\n",
    "geom_point(data = ddgenes_results, aes(t_stat_npc, t_stat_neuro), color = 'red') +\n",
    "labs(title = \"Comparison of t-statistics\", x = \"NPC t-statistics\", y = \"Neuron t-statistics\") +\n",
    "theme_bw() +\n",
    "theme(text= element_text(size = 20))"
   ]
  },
  {
   "cell_type": "code",
   "execution_count": null,
   "id": "4b03d01f-8049-4605-9d2b-d5f61d4f3d7d",
   "metadata": {},
   "outputs": [],
   "source": [
    "ggplot(data = sig_plot_data) +\n",
    "(mapping = aes(t_stat_npc, t_stat_neuro)) +\n",
    "geom_smooth(method=lm, formula = y ~ x) +\n",
    "geom_point() +\n",
    "coord_cartesian(xlim = c(-4,6), ylim=c(-4,6))+\n",
    "labs(title = \"Comparison of t-statistics\", x = \"NPC t-statistics\", y = \"Neuron t-statistics\", subtitle = \"p < 0.05 for NPC AND p >0.05 for Neurons in all genes\", caption = \"red = drug discovery gene list\n",
    "\") +\n",
    "theme_bw() +\n",
    "theme(text= element_text(size = 20)) +\n",
    "geom_point(data = ddgenes_results, aes(t_stat_npc, t_stat_neuro), color = 'red')"
   ]
  },
  {
   "cell_type": "code",
   "execution_count": null,
   "id": "482c6471-aadb-4a8a-95f3-a2d97c351184",
   "metadata": {},
   "outputs": [],
   "source": [
    "ddgenes_sig <- ddgenes_results %>% dplyr::filter(pvalue_npc < 0.05) %>% dplyr::filter(pvalue_neuro < 0.05)\n",
    "dim(ddgenes)"
   ]
  },
  {
   "cell_type": "code",
   "execution_count": null,
   "id": "010335e3-0ae9-4bcd-8d9f-48bc29d3e111",
   "metadata": {},
   "outputs": [],
   "source": [
    "ggplot(data = ddgenes_sig) +\n",
    "(mapping = aes(t_stat_npc, t_stat_neuro)) +\n",
    "geom_smooth(method=lm, formula = y ~ x) +\n",
    "geom_point() +\n",
    "#coord_cartesian(xlim = c(-4,6), ylim=c(-4,6))+\n",
    "labs(title = \"Comparison of t-statistics\", x = \"NPC t-statistics\", y = \"Neuron t-statistics\", subtitle = \"p < 0.05 for NPC AND p <0.05 for Neurons\") +\n",
    "theme_bw() +\n",
    "theme(text= element_text(size = 20))"
   ]
  },
  {
   "cell_type": "code",
   "execution_count": null,
   "id": "b5989c8a-bf08-46f5-aa36-a8c5e8d148c5",
   "metadata": {
    "tags": []
   },
   "outputs": [],
   "source": [
    "head(ddgenes_results)"
   ]
  },
  {
   "cell_type": "code",
   "execution_count": null,
   "id": "34055c4f-190c-4d53-bb8f-7b296c1b2d84",
   "metadata": {},
   "outputs": [],
   "source": [
    "head(ddgenes_results %>% arrange(pvalue_npc))"
   ]
  },
  {
   "cell_type": "code",
   "execution_count": null,
   "id": "9fb2281b-a838-4e2d-b3b5-ed8708763434",
   "metadata": {},
   "outputs": [],
   "source": [
    "ggplot(ddgenes_results, aes(x = pvalue_npc, y = pvalue_neuro)) +\n",
    "geom_point() +\n",
    "geom_hline(aes(yintercept = 0.05)) +\n",
    "geom_vline(aes(xintercept = 0.05)) + \n",
    "labs(x = \"NPC p-values\", y = \"Neuron p-values\", title = \"NPC vs Neuron p-values (unadjusted)\") +\n",
    "theme_bw() +\n",
    "theme(text= element_text(size = 20))"
   ]
  },
  {
   "cell_type": "code",
   "execution_count": null,
   "id": "713e9ac6-cbb4-4509-8244-a9307c4a6190",
   "metadata": {},
   "outputs": [],
   "source": [
    "ddgenes_results %>% filter(pvalue_npc <= 0.05) %>% arrange(pvalue_npc)"
   ]
  },
  {
   "cell_type": "code",
   "execution_count": null,
   "id": "bfe392b7-3106-43af-a81e-107842367fc1",
   "metadata": {},
   "outputs": [],
   "source": [
    "ddgenes_results %>% filter(pvalue_neuro <= 0.05) %>% arrange(pvalue_neuro)"
   ]
  },
  {
   "cell_type": "code",
   "execution_count": null,
   "id": "2b7ec13c-ac12-43b5-a630-48f1bcec678d",
   "metadata": {},
   "outputs": [],
   "source": [
    "#Manually imported list from DD powerpoint\n",
    "\n",
    "dd_pp_genes <- c('CHOP', \"GADD34\", \"ATF4\", \"PERK\", \"BIP\", \"EDEM1\", \"p58ipk\", \"IRE1a\", \"XBP1\", \"HRD1\", \"CANX\", \"UGGT1\", \"GANAB\")"
   ]
  },
  {
   "cell_type": "code",
   "execution_count": null,
   "id": "250eb09b-5a8b-491c-84aa-db52448e4b09",
   "metadata": {},
   "outputs": [],
   "source": [
    "dd_pp_genes_res <- t_stat_info %>% dplyr::filter(gene_name.x %in% dd_pp_genes)\n",
    "dd_pp_genes_res"
   ]
  },
  {
   "cell_type": "code",
   "execution_count": null,
   "id": "eaba1000-3d92-4be9-a763-2ee87e2f1b35",
   "metadata": {},
   "outputs": [],
   "source": [
    "pp_unused_genes <- dd_pp_genes %in% ddgenes$X2\n",
    "pp_unused_genes\n",
    "dd_pp_genes %in% t_stat_info$gene_name.x\n"
   ]
  },
  {
   "cell_type": "code",
   "execution_count": null,
   "id": "d3b3ac36-1e4f-4ea4-82b6-ceb1e5d2b2f8",
   "metadata": {},
   "outputs": [],
   "source": [
    "dd_pp_genes[pp_unused_genes]"
   ]
  },
  {
   "cell_type": "code",
   "execution_count": null,
   "id": "270facf0-04f0-48ad-94b5-7001193fbb6a",
   "metadata": {},
   "outputs": [],
   "source": [
    "head(dd_pp_genes)"
   ]
  },
  {
   "cell_type": "code",
   "execution_count": null,
   "id": "784dad1b-5ede-4d3d-b2dd-78551c0cb49f",
   "metadata": {},
   "outputs": [],
   "source": [
    "ggplot(dd_pp_genes_res, aes(x = pvalue_npc, y = pvalue_neuro)) +\n",
    "geom_point() +\n",
    "geom_hline(aes(yintercept = 0.05)) +\n",
    "geom_vline(aes(xintercept = 0.05)) + \n",
    "labs(x = \"NPC p-values\", y = \"Neuron p-values\", title = \"NPC vs Neuron p-values (unadjusted)\") +\n",
    "theme_bw() +\n",
    "theme(text= element_text(size = 20))"
   ]
  },
  {
   "cell_type": "code",
   "execution_count": null,
   "id": "eab16999-475f-4286-b64f-9b7168b17cf1",
   "metadata": {},
   "outputs": [],
   "source": []
  },
  {
   "cell_type": "markdown",
   "id": "75cc6a98-bece-4b49-9d35-fe7009c03790",
   "metadata": {},
   "source": [
    "# Export figures and data tables"
   ]
  },
  {
   "cell_type": "code",
   "execution_count": null,
   "id": "3b0d9686-cbe7-4dbe-b901-205b7845b656",
   "metadata": {},
   "outputs": [],
   "source": [
    "output <- \"./\"\n",
    "\n",
    "write.table(x = sig_plot_data, file = \"./all_significant_genes.tsv\", sep = \"\\t\",row.names = FALSE)\n",
    "write.table(x = sig_plot_data %>% dplyr::filter(t_stat_npc >=0) %>% dplyr::filter(t_stat_neuro >= 0), file = paste0(output, \"quad_01.tsv\"), sep = '\\t',row.names = FALSE)\n",
    "write.table(x = sig_plot_data %>% dplyr::filter(t_stat_npc < 0) %>% dplyr::filter(t_stat_neuro >= 0), file = paste0(output, \"quad_02.tsv\"), sep = '\\t',row.names = FALSE)\n",
    "write.table(x = sig_plot_data %>% dplyr::filter(t_stat_npc >=0) %>% dplyr::filter(t_stat_neuro < 0), file = paste0(output, \"quad_03.tsv\"), sep = '\\t',row.names = FALSE)\n",
    "write.table(x = sig_plot_data %>% dplyr::filter(t_stat_npc < 0) %>% dplyr::filter(t_stat_neuro < 0), file = paste0(output, \"quad_04.tsv\"), sep = '\\t',row.names = FALSE)\n",
    "\n",
    "write.table(x = t_stat_info, file = paste0(output, \"t_statistics_table.tsv\"), sep = '\\t', row.names = FALSE)"
   ]
  },
  {
   "cell_type": "code",
   "execution_count": null,
   "id": "8b67cb19-1486-409e-8b5c-e12f96d92667",
   "metadata": {},
   "outputs": [],
   "source": [
    "#Drug Discovery Products\n",
    "\n",
    "write.table(x = ddgenes[!(ddgenes$X2 %in% t_stat_info$gene_name.x),], file = paste0(output,\"dd_notincluded.csv\"), sep = \",\", row.names = FALSE)\n",
    "write.table(x = ddgenes_results %>% filter(pvalue_neuro <= 0.05) %>% arrange(pvalue_neuro), file = paste0(output,\"ddneuro.csv\"), sep = \",\", row.names = FALSE)\n",
    "write.table(x = ddgenes_results %>% filter(pvalue_npc <= 0.05) %>% arrange(pvalue_npc), file = paste0(output,\"ddnpc.csv\"), sep = \",\", row.names = FALSE)\n",
    "\n",
    "pdf(paste0(output, 'ddgenes_scatter.pdf'))\n",
    "ggplot(ddgenes_results, aes(x = pvalue_npc, y = pvalue_neuro)) +\n",
    "geom_point() +\n",
    "geom_hline(aes(yintercept = 0.05)) +\n",
    "geom_vline(aes(xintercept = 0.05)) + \n",
    "labs(x = \"NPC p-values\", y = \"Neuron p-values\", title = \"NPC vs Neuron p-values (unadjusted)\") +\n",
    "theme_bw() +\n",
    "theme(text= element_text(size = 20))\n",
    "\n",
    "ggplot(ddgenes_results, aes(x = padj_npc, y = padj_neuro)) +\n",
    "geom_point() +\n",
    "geom_hline(aes(yintercept = 0.05)) +\n",
    "geom_vline(aes(xintercept = 0.05)) + \n",
    "labs(x = \"NPC adjusted p-values\", y = \"Neuron adjusted p-values\", title = \"NPC vs Neuron p-values (adjusted)\") +\n",
    "theme_bw() +\n",
    "theme(text= element_text(size = 20))\n",
    "dev.off()"
   ]
  },
  {
   "cell_type": "code",
   "execution_count": null,
   "id": "26078347-225e-4fd5-974a-a43d82ce8f41",
   "metadata": {},
   "outputs": [],
   "source": [
    "pdf(paste0(output, 'ddgenes_t_stats.pdf'))\n",
    "ggplot(data = ddgenes_results) +\n",
    "(mapping = aes(t_stat_npc, t_stat_neuro)) +\n",
    "geom_smooth(method=lm) +\n",
    "geom_point() +\n",
    "coord_cartesian(xlim = c(-4,8), ylim=c(-4,8))+\n",
    "labs(title = \"Comparison of t-statistics\", subtitle = \"Drug Discovery Genes Only\", x = \"NPC t-statistics\", y = \"Neuron t-statistics\") +\n",
    "theme_bw() +\n",
    "theme(text= element_text(size = 20))\n",
    "\n",
    "ggplot(data = t_stat_info) +\n",
    "(mapping = aes(t_stat_npc, t_stat_neuro)) +\n",
    "geom_smooth(method=lm) +\n",
    "geom_point() +\n",
    "coord_cartesian(xlim = c(-4,8), ylim=c(-4,8))+\n",
    "labs(title = \"Comparison of All Significant Genes\",subtitle = \"All Drug Discovery Genes\", x = \"NPC t-statistics\", y = \"Neuron t-statistics\" , caption = \"red = All drug discovery genes\") +\n",
    "theme_bw() +\n",
    "geom_point(data = ddgenes_results, aes(t_stat_npc, t_stat_neuro), color = 'red') +\n",
    "theme(text= element_text(size = 20))\n",
    "\n",
    "ggplot(data = sig_plot_data) +\n",
    "(mapping = aes(t_stat_npc, t_stat_neuro)) +\n",
    "geom_smooth(method=lm, formula = y ~ x) +\n",
    "geom_point() +\n",
    "coord_cartesian(xlim = c(-4,6), ylim=c(-4,6))+\n",
    "labs(title = \"Comparison of All Significant Genes\", x = \"NPC t-statistics\", y = \"Neuron t-statistics\", subtitle = \"p < 0.05 for NPC AND Neurons in all genes\", caption = \"red = All drug discovery genes\") +\n",
    "theme_bw() +\n",
    "theme(text= element_text(size = 20)) +\n",
    "geom_point(data = ddgenes_results, aes(t_stat_npc, t_stat_neuro), color = 'red')\n",
    "\n",
    "dev.off()"
   ]
  },
  {
   "cell_type": "code",
   "execution_count": null,
   "id": "acd449e4-0939-492f-b358-73206af1fafc",
   "metadata": {},
   "outputs": [],
   "source": [
    "pdf(paste0(output,'NPC_MAplot_padj.pdf'))\n",
    "DESeq2::plotMA(resNPC)\n",
    "DESeq2::plotMA(resNPC, ylim= c(-3,3))\n",
    "dev.off()\n",
    "\n",
    "pdf(paste0(output,'Neuro_MAplot_padj.pdf'))\n",
    "DESeq2::plotMA(resNeuro)\n",
    "DESeq2::plotMA(resNeuro, ylim=c(-3,3))\n",
    "dev.off()\n",
    "\n",
    "pdf(paste0(output,'NPC_Disp_plot.pdf'))\n",
    "plotDispEsts(ddsNPC)\n",
    "dev.off()\n",
    "\n",
    "pdf(paste0(output,'Neuro_Disp_plot.pdf'))\n",
    "plotDispEsts(ddsNeuro)\n",
    "dev.off()\n",
    "\n",
    "pdf(paste0(output, 'NPC_Volcano_plot.pdf'), height = 12, width = 12)\n",
    "EnhancedVolcano(resNPC_labeled,\n",
    "                lab = resNPC_labeled$gene_name,\n",
    "                x = 'log2FoldChange',\n",
    "                y = 'pvalue',\n",
    "                title = \"NPC Hetero vs WT\"\n",
    "               )\n",
    "dev.off()\n",
    "\n",
    "pdf(paste0(output, 'Neuro_Volcano_plot.pdf'), height = 12, width = 12)\n",
    "EnhancedVolcano(resNeuro_labeled,\n",
    "                lab = resNeuro_labeled$gene_name,\n",
    "                x = 'log2FoldChange',\n",
    "                y = 'pvalue',\n",
    "                title = \"Neuro Hetero vs WT\"\n",
    "               )\n",
    "dev.off()\n",
    "\n",
    "pdf(paste0(output, 't_statistics_comparison.pdf'), height = 12, width = 12)\n",
    "ggplot(data = t_stat_info) +\n",
    "(mapping = aes(t_stat_npc, t_stat_neuro)) +\n",
    "geom_smooth(method=lm) +\n",
    "geom_point() +\n",
    "coord_cartesian(xlim = c(-4,8), ylim=c(-4,8))+\n",
    "labs(title = \"t-statistics\") +\n",
    "theme_bw()\n",
    "dev.off()\n",
    "\n",
    "pdf(paste0(output, 'BaseMeans_comparison.pdf'), height = 12, width = 12)\n",
    "ggplot(data = t_stat_info) +\n",
    "(mapping = aes(baseMean_npc, baseMean_neuro)) +\n",
    "geom_smooth(method=lm) +\n",
    "geom_point() +\n",
    "coord_cartesian(xlim = c(0,1.2e05), ylim=c(0,1.2e05)) +\n",
    "labs(title = \"Base Mean Values\") +\n",
    "theme_bw()\n",
    "dev.off()\n",
    "\n",
    "pdf(paste0(output, 'Log2FoldChanges_comparison.pdf'), height = 12, width = 12)\n",
    "ggplot(data = t_stat_info) +\n",
    "(mapping = aes(log2FoldChange_npc, log2FoldChange_neuro)) +\n",
    "#geom_smooth(method=lm) +\n",
    "geom_point() +\n",
    "#coord_cartesian(xlim = c(0,1.2e05), ylim=c(0,1.2e05)) +\n",
    "labs(title = \"log2FoldChange\") +\n",
    "theme_bw()\n",
    "dev.off()\n",
    "\n",
    "pdf(paste0(output, 'Log2FoldChangesSE_comparison.pdf'), height = 12, width = 12)\n",
    "ggplot(data = t_stat_info) +\n",
    "(mapping = aes(lfcSE_npc, lfcSE_neuro)) +\n",
    "geom_smooth(method=lm) +\n",
    "geom_point() +\n",
    "#coord_cartesian(xlim = c(0,1.2e05), ylim=c(0,1.2e05)) +\n",
    "labs(title = \"Log Fold Change Standard Errors\") +\n",
    "theme_bw()\n",
    "dev.off()\n",
    "\n",
    "pdf(paste0(output, 't_stats_Significant_Genes.pdf'), height = 12, width = 12)\n",
    "ggplot(data = sig_plot_data) +\n",
    "(mapping = aes(t_stat_npc, t_stat_neuro)) +\n",
    "geom_smooth(method=lm, formula = y ~ x) +\n",
    "geom_point() +\n",
    "coord_cartesian(xlim = c(-4,6), ylim=c(-4,6))+\n",
    "labs(title = \"Comparison of t-statistics\", x = \"NPC t-statistics\", y = \"Neuron t-statistics\", subtitle = \"p < 0.05 for NPC AND p >0.05 for Neurons\") +\n",
    "theme_bw() +\n",
    "theme(text= element_text(size = 20))\n",
    "dev.off()"
   ]
  },
  {
   "cell_type": "code",
   "execution_count": null,
   "id": "33d58a63-9d87-4c18-a73b-86219c854629",
   "metadata": {},
   "outputs": [],
   "source": [
    "dev.off()"
   ]
  },
  {
   "cell_type": "code",
   "execution_count": null,
   "id": "60c84671-35d9-4202-99fe-14349af36eb2",
   "metadata": {},
   "outputs": [],
   "source": [
    "#Exporting results tables\n",
    "\n",
    "write.csv(resNPC_labeled, file=paste0(output, \"NPC_results.csv\"), na=\"NA\")\n",
    "\n",
    "write.csv(resNeuro_labeled, file=paste0(output, \"Neuro_results.csv\"), na=\"NA\")"
   ]
  },
  {
   "cell_type": "code",
   "execution_count": null,
   "id": "4a1d1585-8f9b-4392-a583-ce785a82b585",
   "metadata": {},
   "outputs": [],
   "source": [
    "# https://support.bioconductor.org/p/106253/ #To convert Ensembl IDs to GeneIDs"
   ]
  },
  {
   "cell_type": "code",
   "execution_count": null,
   "id": "4b3e5b99-e96c-4317-a443-c844c82be233",
   "metadata": {},
   "outputs": [],
   "source": [
    "sessionInfo()"
   ]
  },
  {
   "cell_type": "code",
   "execution_count": null,
   "id": "bac21663-d062-4aef-8552-4c26c08d962e",
   "metadata": {},
   "outputs": [],
   "source": []
  }
 ],
 "metadata": {
  "kernelspec": {
   "display_name": "R",
   "language": "R",
   "name": "ir"
  },
  "language_info": {
   "codemirror_mode": "r",
   "file_extension": ".r",
   "mimetype": "text/x-r-source",
   "name": "R",
   "pygments_lexer": "r",
   "version": "4.1.2"
  }
 },
 "nbformat": 4,
 "nbformat_minor": 5
}
