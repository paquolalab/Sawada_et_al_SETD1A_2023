{
 "cells": [
  {
   "cell_type": "code",
   "execution_count": 1,
   "metadata": {},
   "outputs": [],
   "source": [
    "import pandas as pd\n",
    "import glob\n",
    "import re\n",
    "\n",
    "import rpy2.robjects as ro\n",
    "from rpy2.robjects import r\n",
    "from rpy2.robjects import pandas2ri\n",
    "from rpy2.robjects.conversion import localconverter"
   ]
  },
  {
   "cell_type": "code",
   "execution_count": 2,
   "metadata": {},
   "outputs": [],
   "source": [
    "pandas2ri.activate()"
   ]
  },
  {
   "cell_type": "code",
   "execution_count": 3,
   "metadata": {},
   "outputs": [],
   "source": [
    "%load_ext rpy2.ipython"
   ]
  },
  {
   "cell_type": "code",
   "execution_count": 4,
   "metadata": {},
   "outputs": [],
   "source": [
    "%%R\n",
    "\n",
    "suppressPackageStartupMessages({\n",
    "    library(fishpond)\n",
    "    library(tximport)\n",
    "    library(ggplot2)\n",
    "    library(Seurat)\n",
    "})\n",
    "\n",
    "\n",
    "\n",
    "demultiplex_alevin <- function(input_dir)\n",
    "{\n",
    "\n",
    "    rna.files <- file.path(paste(input_dir, \"rna/alevin/quants_mat.gz\", sep=\"/\"))\n",
    "    hto.files <- file.path(paste(input_dir, \"hto/alevin/quants_mat.gz\", sep=\"/\"))\n",
    "    rna.txi <- tximport(files = rna.files, type = \"alevin\")\n",
    "    hto.txi <- tximport(files = hto.files, type = \"alevin\")\n",
    "                           \n",
    "    common.cells <- intersect(colnames(rna.txi$counts), colnames(hto.txi$counts))\n",
    "    object <- CreateSeuratObject(rna.txi$counts[, common.cells])\n",
    "    object[[\"HTO\"]] <- CreateAssayObject(counts = hto.txi$counts[, common.cells])\n",
    "                           \n",
    "    DefaultAssay(object) <- \"HTO\"\n",
    "    object <- NormalizeData(object, normalization.method = \"CLR\", margin = 2, verbose = F)\n",
    "    VariableFeatures(object) <- rownames(object[[\"HTO\"]]@counts)\n",
    "    object <- ScaleData(object, assay = \"HTO\", verbose = F)                      \n",
    "               \n",
    "    object <- HTODemux(object, assay = \"HTO\", positive.quantile = 0.99, verbose = F)\n",
    "    Idents(object) <- \"HTO_classification.global\"\n",
    "\n",
    "    data.frame( HTO_classification=object$HTO_classification, HTO_classification.global=object$HTO_classification.global)                       \n",
    "}\n",
    "\n"
   ]
  },
  {
   "cell_type": "code",
   "execution_count": 5,
   "metadata": {},
   "outputs": [],
   "source": [
    "def assay_id_iter():\n",
    "    for fn in glob.glob('../../_m/*/hto/alevin/quants_mat_cols.txt'):\n",
    "        m = re.search('_m/([^/]+)/', fn)\n",
    "        if m is not None:\n",
    "            yield m.group(1)"
   ]
  },
  {
   "cell_type": "code",
   "execution_count": null,
   "metadata": {},
   "outputs": [],
   "source": [
    "def underscore_map_iter(fn):\n",
    "    with open(fn) as f:\n",
    "        for line in f:\n",
    "            s = line.rstrip()\n",
    "            yield (s.replace('_', '-'), s)"
   ]
  },
  {
   "cell_type": "code",
   "execution_count": null,
   "metadata": {},
   "outputs": [],
   "source": [
    "for assay_id in assay_id_iter():\n",
    "    with localconverter(ro.default_converter + pandas2ri.converter):\n",
    "        demux_df = ro.conversion.rpy2py(r['demultiplex_alevin'](\"../../_m/%s\" % assay_id))\\\n",
    "        .reset_index().rename(columns={'index':'barcode'})\n",
    "        demux_df.to_csv('%s.raw.tsv' % assay_id, sep=\"\\t\", index=None)\n",
    "        singlet_df = demux_df[demux_df['HTO_classification.global']=='Singlet'].copy()\n",
    "        ud = dict(underscore_map_iter('../../_m/%s/hto/alevin/quants_mat_cols.txt' % assay_id))\n",
    "        singlet_df['HTO_classification'] = singlet_df['HTO_classification'].apply(lambda x: ud[x])\n",
    "        singlet_df.to_csv('%s.singlets.tsv' % assay_id, sep=\"\\t\", index=None)\n"
   ]
  }
 ],
 "metadata": {
  "kernelspec": {
   "display_name": "Python 3",
   "language": "python",
   "name": "python3"
  },
  "language_info": {
   "codemirror_mode": {
    "name": "ipython",
    "version": 3
   },
   "file_extension": ".py",
   "mimetype": "text/x-python",
   "name": "python",
   "nbconvert_exporter": "python",
   "pygments_lexer": "ipython3",
   "version": "3.8.6"
  }
 },
 "nbformat": 4,
 "nbformat_minor": 4
}
