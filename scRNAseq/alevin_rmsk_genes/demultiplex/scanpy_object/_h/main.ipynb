{
 "cells": [
  {
   "cell_type": "code",
   "execution_count": null,
   "metadata": {},
   "outputs": [],
   "source": []
  },
  {
   "cell_type": "code",
   "execution_count": null,
   "metadata": {},
   "outputs": [],
   "source": [
    "#import functools\n",
    "import numpy as np\n",
    "import pandas as pd\n",
    "from vpolo.alevin import parser\n",
    "import scanpy as sc\n",
    "import anndata\n",
    "\n",
    "\n",
    "sc.settings.verbosity = 3             # verbosity: errors (0), warnings (1), info (2), hints (3)\n",
    "sc.logging.print_header()\n"
   ]
  },
  {
   "cell_type": "code",
   "execution_count": null,
   "metadata": {},
   "outputs": [],
   "source": [
    "samples_df = pd.read_csv('/ceph/projects/organoid_sc_rnaseq/input/metadata/tables/_m/samples.csv')\n",
    "print(samples_df.shape)\n",
    "samples_df.head(3)"
   ]
  },
  {
   "cell_type": "code",
   "execution_count": null,
   "metadata": {},
   "outputs": [],
   "source": [
    "assays_df = pd.read_csv('/ceph/projects/organoid_sc_rnaseq/input/metadata/tables/_m/10X_assays.csv')\n",
    "print(assays_df.shape)\n",
    "assays_df"
   ]
  },
  {
   "cell_type": "code",
   "execution_count": null,
   "metadata": {},
   "outputs": [],
   "source": [
    "#@functools.lru_cache\n",
    "def read_alevin_counts(directory):\n",
    "    return parser.read_quants_bin(directory)"
   ]
  },
  {
   "cell_type": "code",
   "execution_count": null,
   "metadata": {},
   "outputs": [],
   "source": [
    "def read_alevin_counts_and_barcodes(samples_df, assays_df, assay_id):\n",
    "    barcodes = pd.read_csv('../../_m/%s.singlets.tsv' % assay_id, sep='\\t', index_col=0)\n",
    "    counts = read_alevin_counts(\"../../../_m/%s/rna\" % assay_id).loc[barcodes.index].copy()\n",
    "    assert all(counts.index == barcodes.index)\n",
    "    \n",
    "    obs = barcodes\\\n",
    "        .reset_index()\\\n",
    "        .merge(samples_df, left_on=['HTO_classification'], right_on=['New_Sample_ID'])\\\n",
    "        .set_index('barcode')\\\n",
    "        .loc[counts.index]\\\n",
    "        .drop(columns=['HTO_classification'])\n",
    "    assert all(obs.index == barcodes.index)\n",
    "    obs.index = obs['New_Sample_ID'] + '-' + obs.index\n",
    "    \n",
    "    counts.index = obs.index\n",
    "    \n",
    "    var = pd.DataFrame({'gene_symbol':counts.columns}, index = counts.columns)\n",
    "    \n",
    "    return anndata.AnnData(counts, obs, var)    \n"
   ]
  },
  {
   "cell_type": "code",
   "execution_count": null,
   "metadata": {},
   "outputs": [],
   "source": [
    "def adata_iter(samples_df, assays_df):\n",
    "    for assay_id in assays_df['10X_Assay_ID']:\n",
    "        yield read_alevin_counts_and_barcodes(samples_df, assays_df, assay_id)"
   ]
  },
  {
   "cell_type": "code",
   "execution_count": null,
   "metadata": {},
   "outputs": [],
   "source": [
    "adata = anndata.AnnData.concatenate(* (adata_iter(samples_df, assays_df)) )"
   ]
  },
  {
   "cell_type": "code",
   "execution_count": null,
   "metadata": {},
   "outputs": [],
   "source": [
    "adata.write_h5ad('scanpy_object.h5')"
   ]
  }
 ],
 "metadata": {
  "kernelspec": {
   "display_name": "Python 3 (ipykernel)",
   "language": "python",
   "name": "python3"
  },
  "language_info": {
   "codemirror_mode": {
    "name": "ipython",
    "version": 3
   },
   "file_extension": ".py",
   "mimetype": "text/x-python",
   "name": "python",
   "nbconvert_exporter": "python",
   "pygments_lexer": "ipython3",
   "version": "3.9.7"
  }
 },
 "nbformat": 4,
 "nbformat_minor": 4
}
