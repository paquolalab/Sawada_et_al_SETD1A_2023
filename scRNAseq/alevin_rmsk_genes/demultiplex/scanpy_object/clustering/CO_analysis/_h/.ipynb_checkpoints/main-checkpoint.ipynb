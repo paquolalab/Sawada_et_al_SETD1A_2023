{
 "cells": [
  {
   "cell_type": "markdown",
   "id": "fe9a39ac-fdc0-4e5d-800e-afb65e1d5a84",
   "metadata": {},
   "source": [
    "# CO Organoids\n",
    "## UMAP, clustering and visualization"
   ]
  },
  {
   "cell_type": "code",
   "execution_count": null,
   "id": "f8cdba50-86f9-470d-8286-89d00ca2196c",
   "metadata": {},
   "outputs": [],
   "source": [
    "import numpy as np\n",
    "import pandas as pd\n",
    "import scanpy as sc\n",
    "import matplotlib.pyplot as plt\n",
    "from plotnine import *\n",
    "import seaborn as sns"
   ]
  },
  {
   "cell_type": "code",
   "execution_count": null,
   "id": "3be9da14-03c7-4b74-a201-e64c415dd855",
   "metadata": {},
   "outputs": [],
   "source": [
    "sc.settings.set_figure_params(facecolor='white')"
   ]
  },
  {
   "cell_type": "code",
   "execution_count": null,
   "id": "d15f00a3-298b-4a1c-b147-421a862b7d41",
   "metadata": {},
   "outputs": [],
   "source": [
    "my_cmap = sns.blend_palette([\"lightgray\", sns.xkcd_rgb[\"blue\"]], as_cmap=True)"
   ]
  },
  {
   "cell_type": "code",
   "execution_count": null,
   "id": "6addfa05-7c4e-48a0-8a63-2eb7f8f42561",
   "metadata": {},
   "outputs": [],
   "source": [
    "adata = sc.read_h5ad('../../_m/adata.h5ad')"
   ]
  },
  {
   "cell_type": "code",
   "execution_count": null,
   "id": "158d4619-bca3-4ad9-ad10-67078e6f29d5",
   "metadata": {},
   "outputs": [],
   "source": [
    "adata.shape"
   ]
  },
  {
   "cell_type": "code",
   "execution_count": null,
   "id": "6ac7475a",
   "metadata": {},
   "outputs": [],
   "source": [
    "set(adata.obs['CO/SO'])"
   ]
  },
  {
   "cell_type": "code",
   "execution_count": null,
   "id": "1d1e82b0-33d1-4f1a-a556-07bf7eb5e2f5",
   "metadata": {},
   "outputs": [],
   "source": [
    "%%time \n",
    "\n",
    "sc.tl.leiden(adata, key_added='leiden', resolution=1)\n"
   ]
  },
  {
   "cell_type": "code",
   "execution_count": null,
   "id": "5ae917b9-1f64-4178-8d08-3222910a1a96",
   "metadata": {},
   "outputs": [],
   "source": [
    "sc.tl.umap(adata)"
   ]
  },
  {
   "cell_type": "markdown",
   "id": "cb6560f9-388e-4159-9ce6-1131807b3c4e",
   "metadata": {},
   "source": [
    "# UMAP with QC variables and leiden clustering"
   ]
  },
  {
   "cell_type": "code",
   "execution_count": null,
   "id": "48fcfea7-d262-4c29-9513-afc54215521b",
   "metadata": {},
   "outputs": [],
   "source": [
    "sc.pl.umap(adata, color=['n_counts', 'leiden'])"
   ]
  },
  {
   "cell_type": "code",
   "execution_count": null,
   "id": "da169c0c-b13f-49b2-b69b-f9939b2063fc",
   "metadata": {},
   "outputs": [],
   "source": [
    "sc.pl.umap(adata, color=['n_genes', 'leiden'])"
   ]
  },
  {
   "cell_type": "code",
   "execution_count": null,
   "id": "fc5d3281-3bd7-4204-9497-e4a43c07520e",
   "metadata": {},
   "outputs": [],
   "source": [
    "sc.pl.umap(adata, color=['mt_frac', 'leiden'])"
   ]
  },
  {
   "cell_type": "markdown",
   "id": "690a29ec-106f-4318-b3bb-662e4623513e",
   "metadata": {},
   "source": [
    "# Samples and treatments"
   ]
  },
  {
   "cell_type": "code",
   "execution_count": null,
   "id": "68a75762-330f-46c9-b380-b71cd7cc1036",
   "metadata": {},
   "outputs": [],
   "source": [
    "for var in ['10X_Assay_ID', 'CO/SO', 'leiden']:\n",
    "    sc.pl.umap(adata, color=[var], cmap=my_cmap)"
   ]
  },
  {
   "cell_type": "markdown",
   "id": "dce7b5d1-bdf4-4351-a12d-88baa7faac00",
   "metadata": {},
   "source": [
    "# Marker genes"
   ]
  },
  {
   "cell_type": "code",
   "execution_count": null,
   "id": "e634363a-f5a1-4fa2-b7ad-73ae750bc3b8",
   "metadata": {},
   "outputs": [],
   "source": [
    "for gene in ['RBFOX3', 'DCX', 'PPP1R1B', 'TH', 'DRD1', 'DRD2', 'DRD3', 'DRD4',\n",
    "            'SOX2', 'SOX11', 'GAD1', 'GAD2', 'SLC32A1', 'PPP1R1B', 'GFAP']:\n",
    "    sc.pl.umap(adata, color=[gene, 'leiden'], cmap=my_cmap)"
   ]
  },
  {
   "cell_type": "code",
   "execution_count": null,
   "id": "895d1cea-047e-42ee-b1ee-003a3d6516b8",
   "metadata": {},
   "outputs": [],
   "source": [
    "sc.pl.umap(adata, color=['DCX', 'ALR/Alpha', 'RBFOX3', 'GFAP', 'S100B', 'SOX2', 'PPP1R1B', 'L1HS'], cmap=my_cmap)"
   ]
  },
  {
   "cell_type": "code",
   "execution_count": null,
   "id": "e745ac17-ba06-4f0c-9d4d-8f883a804291",
   "metadata": {},
   "outputs": [],
   "source": [
    "sc.pl.umap(adata, color=['L1HS', 'L1PA3'], cmap=my_cmap)"
   ]
  },
  {
   "cell_type": "code",
   "execution_count": null,
   "id": "a4ac1cb1-3c16-4f1d-99a9-f46b98891e11",
   "metadata": {},
   "outputs": [],
   "source": [
    "sc.pl.umap(adata, color=['LTR7', 'AluY'], cmap=my_cmap)"
   ]
  },
  {
   "cell_type": "code",
   "execution_count": null,
   "id": "7c175231-aaaa-438b-bfe7-cada7a7f2894",
   "metadata": {},
   "outputs": [],
   "source": [
    "sc.pl.umap(adata, color=['GFAP', 'HERVK-int'], cmap=my_cmap)"
   ]
  },
  {
   "cell_type": "code",
   "execution_count": null,
   "id": "5f202a3c-e92f-4223-8147-5945fbad7f4e",
   "metadata": {},
   "outputs": [],
   "source": [
    "sc.pl.umap(adata, color=['SVA_%s' % x for x in 'ABCDEF'], cmap=my_cmap)"
   ]
  },
  {
   "cell_type": "markdown",
   "id": "ec693b91-4635-4e76-a0b7-b8a1b893f7e9",
   "metadata": {},
   "source": [
    "# Top 20 most variable repeats"
   ]
  },
  {
   "cell_type": "code",
   "execution_count": null,
   "id": "521f9b7c-693a-4876-8944-e238ed928c2f",
   "metadata": {},
   "outputs": [],
   "source": [
    "top20_variable_repeats = adata.var[adata.var['type']=='repeat'].sort_values('dispersions_norm', ascending=False).head(20)\n",
    "top20_variable_repeats"
   ]
  },
  {
   "cell_type": "code",
   "execution_count": null,
   "id": "17fef9f6-4103-498c-a56d-7ea796bae415",
   "metadata": {},
   "outputs": [],
   "source": [
    "sc.pl.umap(adata, color=list(top20_variable_repeats.index), cmap=my_cmap)"
   ]
  },
  {
   "cell_type": "code",
   "execution_count": null,
   "id": "38c6de2f-443e-4420-98c6-e65e00ffae9f",
   "metadata": {},
   "outputs": [],
   "source": [
    "features = ['PPP1R1B', 'TH', 'DRD1', 'DRD2', 'DRD3', 'DRD4', 'GAD1', 'GAD2', 'SLC32A1', 'leiden', 'DCX', 'ALR/Alpha', 'RBFOX3']\n",
    "\n",
    "sc.pl.umap(adata, color=features, cmap=my_cmap)"
   ]
  },
  {
   "cell_type": "code",
   "execution_count": null,
   "id": "a0cd8319-16c9-4f21-9356-fe5857725483",
   "metadata": {},
   "outputs": [],
   "source": [
    "adata.var.columns"
   ]
  },
  {
   "cell_type": "code",
   "execution_count": null,
   "id": "13f37540-30b8-413f-ad29-975e69198f45",
   "metadata": {},
   "outputs": [],
   "source": [
    "adata.var.groupby(['type', 'highly_variable']).size()"
   ]
  },
  {
   "cell_type": "markdown",
   "id": "5dc84900-e7a7-4ad7-8870-b7269e205d09",
   "metadata": {},
   "source": [
    "# Differential expression"
   ]
  },
  {
   "cell_type": "code",
   "execution_count": null,
   "id": "cd7452ec-6d20-4fba-954b-69c84bacd411",
   "metadata": {},
   "outputs": [],
   "source": [
    "%%time \n",
    "\n",
    "sc.tl.rank_genes_groups(adata, groupby='leiden', method='wilcoxon')\n",
    "sc.pl.rank_genes_groups(adata, n_genes=25, sharey=False)"
   ]
  },
  {
   "cell_type": "markdown",
   "id": "c20445dc-15ac-4c63-9f66-f9ba21a9bf32",
   "metadata": {},
   "source": [
    "# Save adata"
   ]
  },
  {
   "cell_type": "code",
   "execution_count": null,
   "id": "5bb676e6-dc3d-4cce-928a-5f978aca49cd",
   "metadata": {},
   "outputs": [],
   "source": [
    "adata.write_h5ad('adata.h5ad')"
   ]
  }
 ],
 "metadata": {
  "kernelspec": {
   "display_name": "Python 3 (ipykernel)",
   "language": "python",
   "name": "python3"
  },
  "language_info": {
   "codemirror_mode": {
    "name": "ipython",
    "version": 3
   },
   "file_extension": ".py",
   "mimetype": "text/x-python",
   "name": "python",
   "nbconvert_exporter": "python",
   "pygments_lexer": "ipython3",
   "version": "3.9.7"
  }
 },
 "nbformat": 4,
 "nbformat_minor": 5
}
