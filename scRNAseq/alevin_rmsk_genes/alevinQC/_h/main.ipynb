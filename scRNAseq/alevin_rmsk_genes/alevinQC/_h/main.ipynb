{
 "cells": [
  {
   "cell_type": "code",
   "execution_count": null,
   "metadata": {},
   "outputs": [],
   "source": [
    "library(alevinQC)"
   ]
  },
  {
   "cell_type": "code",
   "execution_count": null,
   "metadata": {},
   "outputs": [],
   "source": [
    "for(base_dir in Sys.glob('../../_m/*/rna/'))\n",
    "{\n",
    "    m = regexec('/([^/]+)/rna/', base_dir, perl=TRUE)\n",
    "    assay_id = regmatches(base_dir, m)[[1]][2]\n",
    "    print(assay_id)\n",
    "    \n",
    "    dir.create(assay_id)\n",
    "    \n",
    "    alevinQCReport(baseDir = base_dir,\n",
    "               sampleId = assay_id, \n",
    "               outputFile = \"alevinReport.html\", \n",
    "               outputFormat = \"html_document\",\n",
    "               ignorePandoc = TRUE,\n",
    "               outputDir = assay_id, forceOverwrite = TRUE)\n",
    "}"
   ]
  },
  {
   "cell_type": "code",
   "execution_count": null,
   "metadata": {},
   "outputs": [],
   "source": []
  }
 ],
 "metadata": {
  "kernelspec": {
   "display_name": "R",
   "language": "R",
   "name": "ir"
  },
  "language_info": {
   "codemirror_mode": "r",
   "file_extension": ".r",
   "mimetype": "text/x-r-source",
   "name": "R",
   "pygments_lexer": "r",
   "version": "4.0.2"
  }
 },
 "nbformat": 4,
 "nbformat_minor": 4
}
