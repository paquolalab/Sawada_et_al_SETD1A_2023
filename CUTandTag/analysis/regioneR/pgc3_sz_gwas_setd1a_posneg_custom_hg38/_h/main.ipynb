{
 "cells": [
  {
   "cell_type": "code",
   "execution_count": null,
   "id": "1267995b-004e-4c93-9722-aa92478dca27",
   "metadata": {},
   "outputs": [],
   "source": [
    "suppressMessages({\n",
    "    library(data.table)\n",
    "    library(dplyr)\n",
    "    library(tidyverse)\n",
    "    library(ggplot2)\n",
    "    library(readxl)\n",
    "    library(purrr)\n",
    "    library(regioneR)\n",
    "    #library(BSgenome.Hsapiens.UCSC.hg19)\n",
    "    library(GenomicRanges)\n",
    "    library(TxDb.Hsapiens.UCSC.hg38.knownGene)\n",
    "})"
   ]
  },
  {
   "cell_type": "code",
   "execution_count": null,
   "id": "7615f50a-63fc-4d63-9328-065faa57f9af",
   "metadata": {},
   "outputs": [],
   "source": [
    "filepath <- Sys.glob('../../../../../datasets/*/_m/*.tsv')\n",
    "filepath <- grep('sz_pgc3_gwas_byregion',filepath,value = T)\n",
    "filepath\n",
    "\n",
    "\n",
    "paths <- tools::file_path_sans_ext(basename(filepath))\n",
    "paths\n",
    "\n",
    "annotation_groups <- rbindlist(lapply(filepath, fread))\n",
    "head(annotation_groups)\n",
    "tail(annotation_groups)\n",
    "table(annotation_groups$class)"
   ]
  },
  {
   "cell_type": "code",
   "execution_count": null,
   "id": "3eb05307-ca2c-4bd2-8798-a2aaf7838d8f",
   "metadata": {},
   "outputs": [],
   "source": [
    "files_path <- Sys.glob('../../../../chipseeker/peaks_annotated/*/_m/*_10set.tsv')\n",
    "files_path"
   ]
  },
  {
   "cell_type": "code",
   "execution_count": null,
   "id": "844f035a-50d7-4cb1-9865-21b7e77db922",
   "metadata": {},
   "outputs": [],
   "source": [
    "custom_hg38 <- fread('../../../input/custom_hg38/_m/hg38_blacklist_24chr.bed') %>%\n",
    "    as.data.frame() %>%\n",
    "    dplyr::rename(seqnames = V1, start = V2, end = V3) %>%\n",
    "    makeGRangesFromDataFrame()"
   ]
  },
  {
   "cell_type": "code",
   "execution_count": null,
   "id": "1c4ffd07-9306-4946-83f6-1a976b9aeff1",
   "metadata": {},
   "outputs": [],
   "source": [
    "for (i in 1:length(files_path)){\n",
    "    \n",
    "    \n",
    "    df <- fread(files_path[i]) %>% \n",
    "                as.data.frame() %>%\n",
    "                subset(grepl('STRINGENT_SETD1A_AtlasAndCST_POSITIVE|LIBERAL_SETD1A_AtlasAndCST_NEGATIVE|LIBERAL_SETD1A_AtlasAndCST_POSITIVE|^Active_Promoter|^Active_Enhancers|^Inactive_Enhancers',sample_id))\n",
    "\n",
    "    \n",
    "    # df <- fread(files_path[i]) %>% \n",
    "    #     as.data.frame() %>%\n",
    "    #     subset(grepl('STRINGENT|LIBERAL',sample_id))\n",
    "\n",
    "    samples <- unique(df$sample_id)\n",
    "    \n",
    "    print('#####')\n",
    "    print(samples)\n",
    "    print('####')\n",
    "    \n",
    "    }\n",
    "    "
   ]
  },
  {
   "cell_type": "code",
   "execution_count": null,
   "id": "5d6fce02-0d07-4504-9022-38e916be761c",
   "metadata": {},
   "outputs": [],
   "source": [
    "df <- suppressWarnings(read_excel(\"../../../../../datasets/sz_pgc3_gwas_byregion/_h/Supplementary Table 3.xls\", sheet = 1,skip=0)) %>%\n",
    "                    #dplyr::select(Chromosome,`top-pos`) %>%\n",
    "                    plyr::arrange(Chromosome,as.numeric(Chromosome)) %>%\n",
    "                    mutate(seqnames = paste0('chr',Chromosome), \n",
    "                    start = `merge-LEFT`,\n",
    "                    end = `merge-RIGHT`,  #change here, if necessary\n",
    "                    class = 'sz_pgc3_gwas_byregion' ) %>%\n",
    "                    #dplyr::select(seqnames, start, end, class) %>%\n",
    "                    as.data.frame()\n",
    "\n",
    "\n",
    "df$seqnames[grepl('^chr23$',df$seqnames)] <- 'chrX'\n",
    "\n",
    "df$seqnames[grepl('^chr24$',df$seqnames)] <- 'chrY'\n",
    "\n",
    "sz_annot <- df\n",
    "head(sz_annot)\n",
    "tail(sz_annot)\n"
   ]
  },
  {
   "cell_type": "code",
   "execution_count": null,
   "id": "dd14f89a-a2cf-43b8-b15b-cbcdcb0fbb7f",
   "metadata": {},
   "outputs": [],
   "source": [
    "for (i in 1:length(files_path)){\n",
    "    \n",
    "    \n",
    "    df <- fread(files_path[i]) %>% \n",
    "                as.data.frame() %>%\n",
    "                subset(grepl('STRINGENT_SETD1A_AtlasAndCST_POSITIVE|LIBERAL_SETD1A_AtlasAndCST_NEGATIVE|LIBERAL_SETD1A_AtlasAndCST_POSITIVE|^Active_Promoter|^Active_Enhancers|^Inactive_Enhancers',sample_id))\n",
    "\n",
    "    \n",
    "\n",
    "\n",
    "    samples <- unique(df$sample_id)\n",
    "    \n",
    "    \n",
    "    for (i2 in seq_along(paths)){\n",
    "        \n",
    "    annotation_granges <- makeGRangesFromDataFrame(annotation_groups,keep.extra.columns = T)\n",
    "    \n",
    "    annotation_granges <- subset(annotation_groups, class == paths[i2])\n",
    "    \n",
    "    \n",
    "    dir.create(paths[i2]) # create output folder\n",
    "\n",
    "\n",
    "        for(z in seq_along(samples)){\n",
    "\n",
    "            df_sample <- df %>% \n",
    "                     filter(sample_id == samples[z]) %>%\n",
    "                     #dplyr::sample_frac(0.10) %>% ## remove here! just to test\n",
    "                     dplyr::select(seqnames,start,end, sample_id) %>%\n",
    "                     makeGRangesFromDataFrame(keep.extra.columns = T) \n",
    "\n",
    "            output_overlap <- overlapRegions(df_sample,annotation_granges)\n",
    "            output_overlap$sample_id <- df_sample$sample_id[1]\n",
    "            df3 <- dplyr::left_join(output_overlap, sz_annot, by=c(\"chr\" = \"seqnames\", \"startB\" = \"start\", \"endB\" = \"end\"))\n",
    "            fwrite(df3, paste0(paths[i2],'/',samples[z],'_overlap-regions.tsv'), sep='\\t',quote=F, row.names=F)\n",
    "\n",
    "\n",
    "            x <- annotation_granges\n",
    "            x$n_peaks <- 0\n",
    "            x$peak_class <- samples[z]\n",
    "\n",
    "            for (npeak in 1:nrow(annotation_granges)){\n",
    "                n_peaks <- numOverlaps(df_sample, annotation_granges[npeak,], count.once=F)\n",
    "                x$n_peaks[npeak] <- n_peaks\n",
    "                }\n",
    "            x <- x %>%\n",
    "                    filter(n_peaks > 0)\n",
    "            x <- dplyr::left_join(x, sz_annot, by=c(\"seqnames\" = \"seqnames\", \"start\" = \"start\", \"end\" = \"end\"))\n",
    "            \n",
    "            fwrite(x, paste0(paths[i2],'/',samples[z],'_peaknumber_by-region.tsv'), sep='\\t',quote=F, row.names=F)\n",
    "\n",
    "            \n",
    "            }\n",
    "    }\n",
    "}\n",
    "                "
   ]
  },
  {
   "cell_type": "code",
   "execution_count": null,
   "id": "c9a7db86-2bfa-47bf-b0fe-93740ae4fe0b",
   "metadata": {},
   "outputs": [],
   "source": [
    "sessionInfo()"
   ]
  },
  {
   "cell_type": "code",
   "execution_count": null,
   "id": "0cb5a409-81d8-4d9b-814b-ff2d3d3e519b",
   "metadata": {},
   "outputs": [],
   "source": []
  }
 ],
 "metadata": {
  "kernelspec": {
   "display_name": "R",
   "language": "R",
   "name": "ir"
  },
  "language_info": {
   "codemirror_mode": "r",
   "file_extension": ".r",
   "mimetype": "text/x-r-source",
   "name": "R",
   "pygments_lexer": "r",
   "version": "4.1.2"
  }
 },
 "nbformat": 4,
 "nbformat_minor": 5
}
