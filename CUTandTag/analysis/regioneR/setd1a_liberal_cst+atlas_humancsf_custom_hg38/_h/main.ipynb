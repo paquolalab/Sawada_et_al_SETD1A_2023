{
 "cells": [
  {
   "cell_type": "code",
   "execution_count": null,
   "id": "0cf650c3-e644-475b-8928-7899b6a5a32b",
   "metadata": {},
   "outputs": [],
   "source": [
    "suppressMessages({\n",
    "    library(data.table)\n",
    "    library(dplyr)\n",
    "    library(tidyverse)\n",
    "    library(ggplot2)\n",
    "    library(readxl)\n",
    "    library(purrr)\n",
    "    library(regioneR)\n",
    "    library(BSgenome.Hsapiens.UCSC.hg19)\n",
    "    library(GenomicRanges)\n",
    "    library(TxDb.Hsapiens.UCSC.hg38.knownGene)\n",
    "    library(biomaRt)\n",
    "})\n",
    "\n"
   ]
  },
  {
   "cell_type": "code",
   "execution_count": null,
   "id": "780d444f-e364-4ce6-ad42-f41f459843a8",
   "metadata": {},
   "outputs": [],
   "source": [
    "annotation_groups <- fread('../../input/human_cfs/_m/human_cfs_gandharva_gff3.tsv')# %>%\n"
   ]
  },
  {
   "cell_type": "code",
   "execution_count": null,
   "id": "d8613d2a-e90e-424f-bc52-e966bf062591",
   "metadata": {},
   "outputs": [],
   "source": [
    "paths <- c('human_cfs')\n",
    "paths"
   ]
  },
  {
   "cell_type": "code",
   "execution_count": null,
   "id": "1d605950-f70b-4021-b719-7e53a3d9faca",
   "metadata": {},
   "outputs": [],
   "source": [
    "annotation_groups %>% \n",
    "    dplyr::select(seqnames, start, end) %>%\n",
    "    makeGRangesFromDataFrame(ignore.strand = T)\n",
    "#annotation_groups"
   ]
  },
  {
   "cell_type": "code",
   "execution_count": null,
   "id": "bf6b7f02-a180-4a04-9af8-3eb46ef8400b",
   "metadata": {},
   "outputs": [],
   "source": []
  },
  {
   "cell_type": "code",
   "execution_count": null,
   "id": "d695ec65-9a6f-457f-b47a-a30f7ac74d4a",
   "metadata": {},
   "outputs": [],
   "source": [
    "custom_hg38 <- fread('../../input/custom_hg38/_m/hg38_blacklist_24chr.bed') %>%\n",
    "    as.data.frame() %>%\n",
    "    dplyr::rename(seqnames = V1, start = V2, end = V3) %>%\n",
    "    makeGRangesFromDataFrame()"
   ]
  },
  {
   "cell_type": "code",
   "execution_count": null,
   "id": "8f2ebc7a-ead5-47b5-b971-fe19164649d2",
   "metadata": {},
   "outputs": [],
   "source": []
  },
  {
   "cell_type": "code",
   "execution_count": null,
   "id": "8e3b44fc-4195-414e-bebc-8170956a8e13",
   "metadata": {},
   "outputs": [],
   "source": [
    "files_path <- Sys.glob('/ceph/projects/tomoyo_SETD1A_cut-tag_fetalbrain/analysis/qc_manuscript_tables/setd1a_bound_otherregions/_m/*.tsv')\n",
    "files_path"
   ]
  },
  {
   "cell_type": "code",
   "execution_count": null,
   "id": "b8b37da4-a3b5-4499-b11c-a24d25cc84ae",
   "metadata": {},
   "outputs": [],
   "source": [
    "df_samples <- files_path %>% \n",
    "                map_df(~fread(.))"
   ]
  },
  {
   "cell_type": "code",
   "execution_count": null,
   "id": "b094be12-3c61-4b8b-8f18-137865946abb",
   "metadata": {},
   "outputs": [],
   "source": [
    "sample_list <- unique(df_samples$peakNames)\n",
    "sample_list <- sample_list[order(sample_list)]\n",
    "sample_list"
   ]
  },
  {
   "cell_type": "code",
   "execution_count": null,
   "id": "e9c7fd3a-3f3e-4d52-9444-47be44e80993",
   "metadata": {},
   "outputs": [],
   "source": [
    "for (i in seq_along(sample_list)){\n",
    "    \n",
    "    df <- df_samples %>% \n",
    "                filter(peakNames == sample_list[i]) %>%\n",
    "                dplyr::select(seqnames,start,end, strand, peakNames) %>%\n",
    "                makeGRangesFromDataFrame(keep.extra.columns = T)\n",
    "    \n",
    "    samples <- unique(df$peakNames)\n",
    "    \n",
    "    \n",
    "    annotation_granges <- makeGRangesFromDataFrame(annotation_groups,keep.extra.columns = T)\n",
    "\n",
    "        \n",
    "    print(samples)    \n",
    "    print(numOverlaps(df, annotation_granges, count.once=TRUE))\n",
    "        \n",
    "    pt1 <- permTest(A=df, B=annotation_granges, ntimes=10000,genome=custom_hg38,randomize.function=randomizeRegions,\n",
    "               evaluate.function=numOverlaps, count.once=TRUE, mc.cores=8)\n",
    "        \n",
    "    sink(paste0(samples,'_permtest.log')); print(pt1$numOverlaps);sink()\n",
    " \n",
    "    pz_zscore <- localZScore(A=df, B=annotation_granges, pt=pt1, window=10000, step=200, count.once=TRUE)\n",
    "        \n",
    "\n",
    "    png(paste0(samples,'_permtest.png'),width = 7,height=7,units = 'in',res = 300)\n",
    "    plot(pt1)\n",
    "    dev.off()\n",
    "        \n",
    "    png(paste0(samples,'_permzscore.png'),width = 7,height=7,units = 'in',res = 300)\n",
    "    plot(pz_zscore)\n",
    "    dev.off()\n",
    "        \n",
    "        \n",
    "    pdf(paste0(samples,'_permtest.pdf'),width = 7,height=7)\n",
    "    plot(pt1)\n",
    "    dev.off()\n",
    "\n",
    "    pdf(paste0(samples,'_permzscore.pdf'),width = 7,height=7)\n",
    "    plot(pz_zscore)\n",
    "    dev.off()\n",
    "    \n",
    "        }\n",
    "\n"
   ]
  },
  {
   "cell_type": "code",
   "execution_count": null,
   "id": "4b002285-afd3-402a-a062-c44a2f9ca131",
   "metadata": {},
   "outputs": [],
   "source": []
  },
  {
   "cell_type": "code",
   "execution_count": null,
   "id": "773ad1eb-4996-477a-951b-3a3a4403300b",
   "metadata": {},
   "outputs": [],
   "source": [
    "sessionInfo()"
   ]
  }
 ],
 "metadata": {
  "kernelspec": {
   "display_name": "R",
   "language": "R",
   "name": "ir"
  },
  "language_info": {
   "codemirror_mode": "r",
   "file_extension": ".r",
   "mimetype": "text/x-r-source",
   "name": "R",
   "pygments_lexer": "r",
   "version": "4.1.2"
  }
 },
 "nbformat": 4,
 "nbformat_minor": 5
}
