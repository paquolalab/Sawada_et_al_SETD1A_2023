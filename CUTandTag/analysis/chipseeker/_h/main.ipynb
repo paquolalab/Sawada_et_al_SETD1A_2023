{
 "cells": [
  {
   "cell_type": "code",
   "execution_count": null,
   "id": "b6665b77-a1c8-4766-b81e-ebe6706959a2",
   "metadata": {},
   "outputs": [],
   "source": [
    "suppressMessages({\n",
    "library(data.table)\n",
    "library(dplyr)\n",
    "library(tidyverse)\n",
    "library(ggplot2)\n",
    "library(ChIPseeker)\n",
    "library(TxDb.Hsapiens.UCSC.hg38.knownGene)\n",
    "library(clusterProfiler)\n",
    "library(ReactomePA)\n",
    "library(ggupset)\n",
    "library(GenomicRanges)\n",
    "library(rtracklayer)\n",
    "library(IRanges)\n",
    "library(clusterProfiler)\n",
    "library(DOSE)\n",
    "library(org.Hs.eg.db)\n",
    "})\n"
   ]
  },
  {
   "cell_type": "markdown",
   "id": "d527be36-d9ad-4668-bf45-0df58f7906b9",
   "metadata": {},
   "source": [
    "## homer (refseq) vs chipseeker (ucsc) annotations:\n",
    "\n",
    "####  - ChIPseeker also lets you set the distance you want to consider the TSS for each gene, (-3kb to +3kb) as defined above. HOMER, by default, sets it as -1kb to +100 bp. So you should make sure you're using the same annotations for both - you can change them easily for both HOMER and ChIPseeker - and make sure you have the TSS region set similarly for each. https://www.biostars.org/p/332805/#332807\n",
    "\n",
    "####  - Regular peak (stringent); not summit!"
   ]
  },
  {
   "cell_type": "code",
   "execution_count": null,
   "id": "1044a4f2-35de-4296-abb5-ed622039424e",
   "metadata": {},
   "outputs": [],
   "source": []
  },
  {
   "cell_type": "code",
   "execution_count": null,
   "id": "533fa038-4f38-47b5-bde9-55520be435a5",
   "metadata": {},
   "outputs": [],
   "source": [
    "#function to save base R plots in multiples formats\n",
    "save_plot <- function(p, fn, w, h){\n",
    "    for(ext in c(\".pdf\", \".png\", \".svg\")){\n",
    "        ggsave(filename=paste0(fn,ext), plot=p, width=w, height=h)\n",
    "    }\n",
    "}"
   ]
  },
  {
   "cell_type": "code",
   "execution_count": null,
   "id": "4dab91be-0929-4ad7-b0cf-43f2cee295e5",
   "metadata": {},
   "outputs": [],
   "source": [
    "txdb <- TxDb.Hsapiens.UCSC.hg38.knownGene"
   ]
  },
  {
   "cell_type": "code",
   "execution_count": null,
   "id": "859f3089-111d-4e0a-8df3-e8a6999543bb",
   "metadata": {},
   "outputs": [],
   "source": [
    "bed_files <- Sys.glob('../../seacr/control_peaks_nodup_fetal/_m/peakCalling/SEACR/*')\n",
    "bed_files <- bed_files[grepl('_seacr_control.peaks.stringent.bed',bed_files)]\n",
    "bed_files <- bed_files[grepl('/SEACR/Br',bed_files)]\n",
    "\n",
    "head(bed_files)\n",
    "tail(bed_files)\n",
    "bed_files"
   ]
  },
  {
   "cell_type": "code",
   "execution_count": null,
   "id": "304a7660-6184-42c8-b424-84e5c5e30769",
   "metadata": {},
   "outputs": [],
   "source": [
    "#bed_files <- Sys.glob('../../seacr/setda1a_atlas-cst_peaks_nodup/_m/peakCalling/SEACR/*')\n",
    "#bed_files_atlas <- bed_files[grepl('_Atlas.',bed_files)]\n",
    "#bed_files_atlas <- bed_files_atlas[file.info(bed_files_atlas)$size > 0] #remove any empty file\n",
    "sample_ids <- gsub('.*/SEACR/|_seacr_.*','',bed_files)\n",
    "sample_ids <- sample_ids[grepl('^Br',sample_ids)]\n",
    "sample_ids"
   ]
  },
  {
   "cell_type": "code",
   "execution_count": null,
   "id": "7793dca0-5eb8-4911-85e3-00e55eb0dc1f",
   "metadata": {},
   "outputs": [],
   "source": [
    "metadata_df <- fread('../../../metadata/_m/metadata_allsamples_CUTTAG_fetal.tsv')\n",
    "#metadata_df <- subset(metadata_df, Sequence_ID == '2104UNHP-0893')\n",
    "#metadata_df <- subset(metadata_df, New_Sample_ID %in% sample_ids)\n",
    "metadata_df\n",
    "#metadata_df\n",
    "#metadata_df"
   ]
  },
  {
   "cell_type": "code",
   "execution_count": null,
   "id": "63435aaf-28a8-4435-a915-53a1c0759afa",
   "metadata": {},
   "outputs": [],
   "source": [
    "table(metadata_df$markers)"
   ]
  },
  {
   "cell_type": "code",
   "execution_count": null,
   "id": "274d49c1-3581-491a-be7f-4eea474534a0",
   "metadata": {},
   "outputs": [],
   "source": [
    "exp_group <- unique(metadata_df$Group)\n",
    "exp_group"
   ]
  },
  {
   "cell_type": "code",
   "execution_count": null,
   "id": "f180469a-b0f9-432b-8af0-5ba4a930f11a",
   "metadata": {},
   "outputs": [],
   "source": [
    "# head(peakAnnoSETD1A)\n",
    "# tail(peakAnnoSETD1A)"
   ]
  },
  {
   "cell_type": "code",
   "execution_count": null,
   "id": "f295693f-dde7-4d8c-b838-134504e072ae",
   "metadata": {},
   "outputs": [],
   "source": [
    "start.time <- Sys.time()\n",
    "\n",
    "peaksAnnot <- data.frame()\n",
    "for (i in 1:length(bed_files)){\n",
    "    df <- fread(bed_files[i], header=F, sep=\"\\t\")\n",
    "    print(paste0(sample_ids[i],' - Number of SEACR Peaks: ',nrow(df)))\n",
    "    df <- annotatePeak(bed_files[i],TxDb=txdb,tssRegion=c(-1000, 100), verbose=FALSE, annoDb=\"org.Hs.eg.db\")\n",
    "    df <- as.data.frame(df@anno)\n",
    "    df$sample_id <- sample_ids[i]\n",
    "    print(paste0(sample_ids[i],' - Number of Annotated Peaks (chipseeker): ',nrow(df)))\n",
    "    peaksAnnot <- rbind(df,peaksAnnot)\n",
    "    }\n",
    "\n",
    "end.time <- Sys.time()\n",
    "time.taken <- end.time - start.time\n",
    "time.taken"
   ]
  },
  {
   "cell_type": "code",
   "execution_count": null,
   "id": "7dff0966-56ba-4f5b-8fb9-e52806d6f65e",
   "metadata": {},
   "outputs": [],
   "source": [
    "fwrite(peaksAnnot, 'chipseeker_controlpeaks_stringent_annotation_homertss.tsv', sep=\"\\t\",quote=F,row.names=F)"
   ]
  },
  {
   "cell_type": "code",
   "execution_count": null,
   "id": "9e6aaea4-4b02-4dd5-af47-27339479ed2e",
   "metadata": {},
   "outputs": [],
   "source": [
    "head(peaksAnnot)\n",
    "tail(peaksAnnot)"
   ]
  },
  {
   "cell_type": "code",
   "execution_count": null,
   "id": "ee93b900-9fab-4259-9fa5-b6c855d6f70a",
   "metadata": {},
   "outputs": [],
   "source": [
    "# peaks_annotation.setd1a <- lapply(bed_setd1a[1:2], function(x) {\n",
    "#                                   df <- annotatePeak(x,tssRegion=c(-3000, 3000), TxDb=txdb, annoDb=\"org.Hs.eg.db\")\n",
    "#                                   df <- as.data.frame(df@anno)\n",
    "#                                   df$sample_id <- sample_ids_setd1a[1]\n",
    "# }\n",
    "#                )"
   ]
  },
  {
   "cell_type": "code",
   "execution_count": null,
   "id": "8bd9aa29-fa4a-423b-bda4-3671a0cf6671",
   "metadata": {},
   "outputs": [],
   "source": [
    "# load clusterprofiler  gene list (background universe)\n",
    "\n",
    "data(geneList)"
   ]
  },
  {
   "cell_type": "code",
   "execution_count": null,
   "id": "dd14bd76-69e3-4d14-9874-32d18ad8602b",
   "metadata": {},
   "outputs": [],
   "source": [
    "dir.create('./cnetplot/')\n",
    "dir.create('./ora/')\n",
    "\n",
    "dir.create('./ora/go/')\n",
    "dir.create('./ora/reactome/')\n",
    "dir.create('./ora/disgenet/')\n",
    "\n",
    "\n",
    "path_cnetplot <- './cnetplot/'\n",
    "path_go <- './ora/go/'\n",
    "path_reactome <- './ora/reactome/'\n",
    "path_disgenet <- './ora/disgenet/'\n",
    "\n",
    "\n",
    "\n",
    "\n",
    "\n",
    "\n",
    "for (i in unique(peaksAnnot$sample_id)){\n",
    "    \n",
    "    genes <- subset(peaksAnnot, sample_id == i)$geneId\n",
    "    \n",
    "    \n",
    "    \n",
    "    #Gene Ontology BP (ORA)\n",
    "    enrich_go_bp <- enrichGO(gene = genes,\n",
    "                OrgDb = org.Hs.eg.db,\n",
    "                ont = \"BP\",\n",
    "                pAdjustMethod = \"BH\",\n",
    "                pvalueCutoff = 0.05,\n",
    "                qvalueCutoff = 0.05) \n",
    "    \n",
    "    p1 <- dotplot(enrich_go_bp,showCategory = 25, font.size = 10, label_format = 50) \n",
    "    save_plot(p = p1, fn=paste0(path_go, i,'_dotplot_go_bp'),\n",
    "              h=10,w=8) \n",
    "    \n",
    "    p1 <- barplot(enrich_go_bp,showCategory = 25, font.size = 10, label_format = 50)\n",
    "    save_plot(p = p1, fn=paste0(path_go, i,'_barplot_go_bp'),\n",
    "              h=10,w=8)   \n",
    "    \n",
    "\n",
    "    #Gene Ontology MF (ORA)\n",
    "    enrich_go_mf <- enrichGO(gene = genes,\n",
    "                OrgDb = org.Hs.eg.db,\n",
    "                ont = \"MF\",\n",
    "                pAdjustMethod = \"BH\",\n",
    "                pvalueCutoff = 0.05,\n",
    "                qvalueCutoff = 0.05) \n",
    "    \n",
    "    p1 <- dotplot(enrich_go_mf,showCategory = 25, font.size = 10, label_format = 50) \n",
    "    save_plot(p = p1, fn=paste0(path_go, i,'_dotplot_go_mf'),\n",
    "              h=10,w=8) \n",
    "    \n",
    "    p1 <- barplot(enrich_go_mf,showCategory = 25, font.size = 10, label_format = 50)\n",
    "    save_plot(p = p1, fn=paste0(path_go, i,'_barplot_go_mf'),\n",
    "              h=10,w=8)         \n",
    "    \n",
    "\n",
    "    #Gene Ontology CC (ORA)\n",
    "    enrich_go_cc <- enrichGO(gene = genes,\n",
    "                OrgDb = org.Hs.eg.db,\n",
    "                ont = \"CC\",\n",
    "                pAdjustMethod = \"BH\",\n",
    "                pvalueCutoff = 0.05,\n",
    "                qvalueCutoff = 0.05) \n",
    "    \n",
    "    p1 <- dotplot(enrich_go_cc,showCategory = 25, font.size = 10, label_format = 50) \n",
    "    save_plot(p = p1, fn=paste0(path_go, i,'_dotplot_go_cc'),\n",
    "              h=10,w=8) \n",
    "    \n",
    "    p1 <- barplot(enrich_go_cc,showCategory = 25, font.size = 10, label_format = 50)\n",
    "    save_plot(p = p1, fn=paste0(path_go, i,'_barplot_go_cc'),\n",
    "              h=10,w=8)       \n",
    "    \n",
    "    \n",
    "    \n",
    "    #reactome - ORA \n",
    "    enrich_reactome <- enrichPathway(genes)\n",
    "    \n",
    "    p1 <- dotplot(enrich_reactome,showCategory = 25, font.size = 10, label_format = 50) \n",
    "    save_plot(p = p1, fn=paste0(path_reactome, i,'_dotplot_reactome'),\n",
    "              h=10,w=8) \n",
    "    \n",
    "    p1 <- barplot(enrich_reactome,showCategory = 25, font.size = 10, label_format = 50)\n",
    "    save_plot(p = p1, fn=paste0(path_reactome, i,'_barplot_reactome'),\n",
    "              h=10,w=8)\n",
    "    \n",
    "    \n",
    "    #disgenet - ORA\n",
    "\n",
    "    enrich_disgenet <- enrichDGN(genes) #disgenet\n",
    "\n",
    "    p1 <- dotplot(enrich_disgenet,showCategory = 25, font.size = 10, label_format = 50) \n",
    "    save_plot(p = p1, fn=paste0(path_disgenet, i,'_dotplot_disgenet'),\n",
    "              h=10,w=8) \n",
    "    \n",
    "    p1 <- barplot(enrich_disgenet,showCategory = 25, font.size = 10, label_format = 50)\n",
    "    save_plot(p = p1, fn=paste0(path_disgenet, i,'_barplot_disgenet'),\n",
    "              h=10,w=8)\n",
    "\n",
    "\n",
    "    #networks - cnetplot\n",
    "\n",
    "    edox <- setReadable(enrich_go_bp, 'org.Hs.eg.db', 'ENTREZID')\n",
    "    p1 <- cnetplot(edox, foldChange=geneList,showCategory = 10, node_label=\"category\", \n",
    "                   color_category='firebrick')\n",
    "    save_plot(p = p1, fn=paste0(path_cnetplot,i,'_cnetplot_go_bp'),\n",
    "              h=10,w=10)\n",
    "    \n",
    "    edox <- setReadable(enrich_go_mf, 'org.Hs.eg.db', 'ENTREZID')\n",
    "    p1 <- cnetplot(edox, foldChange=geneList,showCategory = 10, node_label=\"category\", \n",
    "                   color_category='firebrick')\n",
    "    save_plot(p = p1, fn=paste0(path_cnetplot,i,'_cnetplot_go_mf'),\n",
    "              h=10,w=10)\n",
    "    \n",
    "        edox <- setReadable(enrich_go_cc, 'org.Hs.eg.db', 'ENTREZID')\n",
    "    p1 <- cnetplot(edox, foldChange=geneList,showCategory = 10, node_label=\"category\", \n",
    "                   color_category='firebrick')\n",
    "    save_plot(p = p1, fn=paste0(path_cnetplot,i,'_cnetplot_go_cc'),\n",
    "              h=10,w=10)\n",
    "    \n",
    "    edox <- setReadable(enrich_reactome, 'org.Hs.eg.db', 'ENTREZID')\n",
    "    p1 <- cnetplot(edox, foldChange=geneList,showCategory = 10, node_label=\"category\", \n",
    "                   color_category='firebrick')\n",
    "    save_plot(p = p1, fn=paste0(path_cnetplot,i,'_cnetplot_reactome'),\n",
    "              h=10,w=10)\n",
    "    \n",
    "    edox <- setReadable(enrich_disgenet, 'org.Hs.eg.db', 'ENTREZID')\n",
    "    p1 <- cnetplot(edox, foldChange=geneList,showCategory = 10, node_label=\"category\", \n",
    "                   color_category='firebrick')\n",
    "    save_plot(p = p1, fn=paste0(path_cnetplot,i,'_cnetplot_disgenet'),\n",
    "              h=10,w=10)\n",
    "\n",
    "\n",
    "    }\n",
    "\n",
    "#genes <- subset(peakAnnoSETD1A, sample_id == unique(peakAnnoSETD1A$sample_id)[1])$geneId\n",
    "\n",
    "#pathway1 <- enrichPathway(genes)"
   ]
  },
  {
   "cell_type": "code",
   "execution_count": null,
   "id": "5b2af8f5-e18f-46e7-b44c-a4cac9920f6d",
   "metadata": {},
   "outputs": [],
   "source": [
    "# dotplot(enrich_reactome,showCategory = 25, font.size = 10)\n",
    "# dotplot(enrich_reactome,showCategory = 25, font.size = 10, label_format = 50)\n",
    "# dotplot(enrich_reactome,showCategory = 25, label_format = 50)"
   ]
  },
  {
   "cell_type": "code",
   "execution_count": null,
   "id": "bb52b0c6-3b57-4585-a5a3-7c38dc770c34",
   "metadata": {},
   "outputs": [],
   "source": [
    "sessionInfo()"
   ]
  }
 ],
 "metadata": {
  "kernelspec": {
   "display_name": "R",
   "language": "R",
   "name": "ir"
  },
  "language_info": {
   "codemirror_mode": "r",
   "file_extension": ".r",
   "mimetype": "text/x-r-source",
   "name": "R",
   "pygments_lexer": "r",
   "version": "4.1.2"
  }
 },
 "nbformat": 4,
 "nbformat_minor": 5
}
