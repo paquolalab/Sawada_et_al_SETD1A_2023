{
 "cells": [
  {
   "cell_type": "code",
   "execution_count": null,
   "id": "95958282-feda-4d86-8f20-882c33e03f5f",
   "metadata": {},
   "outputs": [],
   "source": [
    "suppressMessages({\n",
    "    library(data.table)\n",
    "    library(dplyr)\n",
    "    library(tidyverse)\n",
    "    library(ggplot2)\n",
    "    library(ChIPseeker)\n",
    "    library(TxDb.Hsapiens.UCSC.hg38.knownGene)\n",
    "    library(GenomicRanges)\n",
    "    library(rtracklayer)\n",
    "    library(IRanges)\n",
    "    library(org.Hs.eg.db)\n",
    "    library(ChIPpeakAnno)\n",
    "})"
   ]
  },
  {
   "cell_type": "code",
   "execution_count": null,
   "id": "f4993cbb-ce61-485e-a584-1787cbba4308",
   "metadata": {},
   "outputs": [],
   "source": [
    "df <- fread('../../_m/chipseeker_controlpeaks_stringent_annotation_homertss.tsv') #load all individual brain/samples peaks\n"
   ]
  },
  {
   "cell_type": "code",
   "execution_count": null,
   "id": "d99b2ef4-50de-4fec-bd15-f487392c0b1f",
   "metadata": {},
   "outputs": [],
   "source": [
    "df_stringent <- fread('../../overlap_peaks/_m/STRINGENT_H3K4me3_overlap_peaks_allregions_annotated.tsv') %>%  #load stringent h3k4me3 peaks\n",
    "                mutate(sample_id = 'stringent_me3') %>%\n",
    "                as.data.frame()\n",
    "dim(df_stringent)"
   ]
  },
  {
   "cell_type": "code",
   "execution_count": null,
   "id": "38b727f7-2018-4193-bdc2-69cc00454c5e",
   "metadata": {},
   "outputs": [],
   "source": []
  },
  {
   "cell_type": "code",
   "execution_count": null,
   "id": "ec4358b3-9161-48ea-af32-8ecdc37439f5",
   "metadata": {},
   "outputs": [],
   "source": []
  },
  {
   "cell_type": "code",
   "execution_count": null,
   "id": "4d41ddbf-8952-4715-bac4-d50a801640ce",
   "metadata": {},
   "outputs": [],
   "source": []
  },
  {
   "cell_type": "code",
   "execution_count": null,
   "id": "1fa84a50-9b56-4977-97ef-80dad298d805",
   "metadata": {},
   "outputs": [],
   "source": [
    "#rename each sample to Brain1, Brain2, Brain3....\n",
    "\n",
    "all_me3_tag <- df %>%\n",
    "                    filter(grepl('H3K4me3',sample_id)) %>%\n",
    "                    dplyr::select(sample_id)\n",
    "\n",
    "all_me3_tag <- unique(all_me3_tag$sample_id) %>% \n",
    "                        as.data.frame() %>%\n",
    "                        mutate(old_peak_id = c('Brain3_me3','Brain2_me3','Brain1_me3')) %>%\n",
    "                        dplyr::rename('sample_id' = '.')\n",
    "\n",
    "all_me3_tag\n",
    "\n",
    "\n",
    "#7810"
   ]
  },
  {
   "cell_type": "code",
   "execution_count": null,
   "id": "5eff721b-eb52-4fe9-878e-075ca314c79f",
   "metadata": {},
   "outputs": [],
   "source": [
    "#create a dataframe with all (unique) me3 peaks indenfied in all 3 brains\n",
    "\n",
    "all_me3 <- df %>%\n",
    "                    filter(grepl('H3K4me3',sample_id)) %>%\n",
    "                    #dplyr::select(sample_id) %>%\n",
    "                    left_join(all_me3_tag) %>%\n",
    "                    mutate(loc_id = paste0(seqnames,':',start,'-',end)) %>%\n",
    "                    distinct(loc_id,.keep_all = T) %>%\n",
    "                    group_by(old_peak_id) %>%\n",
    "                    mutate(peak_id = paste0(old_peak_id,'_',1:n())) %>%\n",
    "                    ungroup() %>%\n",
    "                    as.data.frame()\n",
    "\n",
    "\n",
    "row.names(all_me3) <- all_me3$peak_id               \n",
    "                             \n",
    "                             "
   ]
  },
  {
   "cell_type": "code",
   "execution_count": null,
   "id": "9f5be4ef-e8db-47c4-9bf7-c61249b3106d",
   "metadata": {},
   "outputs": [],
   "source": []
  },
  {
   "cell_type": "code",
   "execution_count": null,
   "id": "0d4495c2-79a0-428b-95f8-f08764377a60",
   "metadata": {},
   "outputs": [],
   "source": []
  },
  {
   "cell_type": "code",
   "execution_count": null,
   "id": "8da8fdd4-297b-46a8-84f8-f08d20f59dbc",
   "metadata": {},
   "outputs": [],
   "source": [
    "me3_stringent <- df_stringent %>%\n",
    "                 mutate(peak_id = paste0(sample_id,'_',1:n())) %>%\n",
    "                 as.data.frame()\n",
    "\n",
    "row.names(me3_stringent) <- me3_stringent$peak_id               \n",
    "\n",
    "#me3_stringent           "
   ]
  },
  {
   "cell_type": "code",
   "execution_count": null,
   "id": "0c117ae1-e74b-4add-ba41-d1461a061010",
   "metadata": {},
   "outputs": [],
   "source": [
    "#head(me3_stringent)"
   ]
  },
  {
   "cell_type": "code",
   "execution_count": null,
   "id": "22723629-d908-4272-b827-4613c06d26ff",
   "metadata": {},
   "outputs": [],
   "source": []
  },
  {
   "cell_type": "code",
   "execution_count": null,
   "id": "8ed14372-ea43-48fe-8095-ddae1dd29c69",
   "metadata": {},
   "outputs": [],
   "source": [
    "#check all the numbers\n",
    "\n",
    "table(all_me3$old_peak_id)\n",
    "\n",
    "\n",
    "print(paste0('Brain 1 - H3K4me3: ', all_me3 %>% filter(grepl('Brain1',peak_id)) %>% nrow()))\n",
    "print(paste0('Brain 2 - H3K4me3: ', all_me3 %>% filter(grepl('Brain2',peak_id)) %>% nrow()))\n",
    "print(paste0('Brain 3 - H3K4me3: ', all_me3 %>% filter(grepl('Brain3',peak_id)) %>% nrow()))\n",
    "\n",
    "print(paste0('Total Unique H3K4me3 peaks: ', all_me3 %>% nrow()))\n"
   ]
  },
  {
   "cell_type": "code",
   "execution_count": null,
   "id": "11c55bb8-a2c7-4277-899d-90ba01ee5317",
   "metadata": {},
   "outputs": [],
   "source": []
  },
  {
   "cell_type": "code",
   "execution_count": null,
   "id": "423e3275-3a1a-4dc4-862d-41bee9c6a3ad",
   "metadata": {},
   "outputs": [],
   "source": []
  },
  {
   "cell_type": "code",
   "execution_count": null,
   "id": "5457c3d7-f8ad-4f34-bb18-76fc34fc1f0d",
   "metadata": {},
   "outputs": [],
   "source": []
  },
  {
   "cell_type": "code",
   "execution_count": null,
   "id": "9415b4b3-2335-4eaf-a72c-0399abcda3b6",
   "metadata": {},
   "outputs": [],
   "source": []
  },
  {
   "cell_type": "code",
   "execution_count": null,
   "id": "89d74acd-c6e3-47a6-b6f2-c025d3b5a954",
   "metadata": {},
   "outputs": [],
   "source": []
  },
  {
   "cell_type": "code",
   "execution_count": null,
   "id": "d275bc70-acf3-48c7-8c09-26e85a8ddf23",
   "metadata": {},
   "outputs": [],
   "source": [
    "# Now we will work with all the SETD1A samples (atlas & cst, brain1, brain2, brain3)\n"
   ]
  },
  {
   "cell_type": "code",
   "execution_count": null,
   "id": "a8598cb1-95a8-469a-9c27-871d6f65d09d",
   "metadata": {},
   "outputs": [],
   "source": [
    "\n",
    "\n",
    "setd1a <- df %>%\n",
    "                filter(grepl('SETD1A',sample_id))\n",
    "\n",
    "setd1a_tags <- unique(setd1a$sample_id) %>% \n",
    "                as.data.frame() %>%\n",
    "                mutate(old_peak_id = c('Brain3_cst','Brain3_atlas','Brain2_cst','Brain2_atlas','Brain1_cst','Brain1_atlas')) %>%\n",
    "                dplyr::rename('sample_id' = '.')\n",
    "\n",
    "setd1a_tags"
   ]
  },
  {
   "cell_type": "code",
   "execution_count": null,
   "id": "64f1f67d-0bff-4939-94d5-c913a4e1b7b2",
   "metadata": {},
   "outputs": [],
   "source": [
    "#create a dataframe with all (unique) SETD1A Atlas and SETD1A cst peaks indenfied in all 3 brains\n",
    "\n",
    "\n",
    "all_setd1a <- df %>%\n",
    "                    filter(grepl('SETD1A',sample_id)) %>%\n",
    "                    #dplyr::select(sample_id) %>%\n",
    "                    left_join(setd1a_tags) %>%\n",
    "                    mutate(loc_id = paste0(seqnames,':',start,'-',end)) %>%\n",
    "                    distinct(loc_id,.keep_all = T) %>%\n",
    "                    group_by(old_peak_id) %>%\n",
    "                    mutate(peak_id = paste0(old_peak_id,'_',1:n())) %>%\n",
    "                    ungroup() %>%\n",
    "                    as.data.frame()\n",
    "\n",
    "\n",
    "row.names(all_setd1a) <- all_setd1a$peak_id   "
   ]
  },
  {
   "cell_type": "code",
   "execution_count": null,
   "id": "3ffd86dd-83b3-4dc0-b128-d7e73956e2c1",
   "metadata": {},
   "outputs": [],
   "source": [
    "#all_setd1a"
   ]
  },
  {
   "cell_type": "code",
   "execution_count": null,
   "id": "31cbd7c5-3ad3-4733-ab32-ecfbcc820dcb",
   "metadata": {},
   "outputs": [],
   "source": [
    "#tail(all_setd1a)"
   ]
  },
  {
   "cell_type": "code",
   "execution_count": null,
   "id": "6574df3f-1fd1-4d41-b6b0-c50e13703ac3",
   "metadata": {},
   "outputs": [],
   "source": [
    "#sum(duplicated(liberal_me3$loc_id))\n",
    "#4"
   ]
  },
  {
   "cell_type": "code",
   "execution_count": null,
   "id": "6698b92a-09a6-49c3-af07-b9b5cc4c7d90",
   "metadata": {},
   "outputs": [],
   "source": [
    "#check all the numbers\n",
    "\n",
    "\n",
    "print(paste0('Brain 1 - SETD1A_Atlas: ', all_setd1a %>% filter(grepl('Brain1',peak_id) & grepl('atlas',peak_id)) %>% nrow()))\n",
    "print(paste0('Brain 1 - SETD1A_CST: ', all_setd1a %>% filter(grepl('Brain1',peak_id) & grepl('cst',peak_id)) %>% nrow()))\n",
    "\n",
    "print(paste0('Brain 2 - SETD1A_Atlas: ', all_setd1a %>% filter(grepl('Brain2',peak_id) & grepl('atlas',peak_id)) %>% nrow()))\n",
    "print(paste0('Brain 2 - SETD1A_CST: ', all_setd1a %>% filter(grepl('Brain2',peak_id) & grepl('cst',peak_id)) %>% nrow()))\n",
    "\n",
    "print(paste0('Brain 3 - SETD1A_Atlas: ', all_setd1a %>% filter(grepl('Brain3',peak_id) & grepl('atlas',peak_id)) %>% nrow()))\n",
    "print(paste0('Brain 3 - SETD1A_CST: ', all_setd1a %>% filter(grepl('Brain3',peak_id) & grepl('cst',peak_id)) %>% nrow()))\n",
    "\n",
    "print(paste0('Total Atlas: ', all_setd1a %>% filter(grepl('atlas',peak_id)) %>% nrow()))\n",
    "print(paste0('Total CST: ', all_setd1a %>% filter(grepl('cst',peak_id)) %>% nrow()))\n",
    "\n"
   ]
  },
  {
   "cell_type": "code",
   "execution_count": null,
   "id": "b4bbb5b0-dc90-4cc6-ae4b-79f0ec61a61a",
   "metadata": {},
   "outputs": [],
   "source": [
    "#ok, everything seems right! lets calculate the overlaps"
   ]
  },
  {
   "cell_type": "code",
   "execution_count": null,
   "id": "5078c6b8-849f-4c9f-9e57-ce4c23bbcc14",
   "metadata": {},
   "outputs": [],
   "source": []
  },
  {
   "cell_type": "code",
   "execution_count": null,
   "id": "290c363d-7247-4805-baa5-16f487800dee",
   "metadata": {},
   "outputs": [],
   "source": []
  },
  {
   "cell_type": "code",
   "execution_count": null,
   "id": "fddded61-ac65-487c-aee2-7cc136b160e5",
   "metadata": {},
   "outputs": [],
   "source": []
  },
  {
   "cell_type": "code",
   "execution_count": null,
   "id": "0608606d-5d61-42fc-95d5-c2332ebab162",
   "metadata": {},
   "outputs": [],
   "source": [
    "ol <- findOverlapsOfPeaks(A=makeGRangesFromDataFrame(all_me3,keep.extra.columns = T), \n",
    "                          B=makeGRangesFromDataFrame(all_setd1a, keep.extra.columns = T),\n",
    "                          ignore.strand=TRUE,\n",
    "                          connectedPeaks=\"merge\")\n",
    "#ol$overlappingPeaks\n",
    "\n",
    "\n",
    "df_overlap <- ol$overlappingPeaks[[1]] %>% as.data.frame()\n",
    "\n",
    "colnames(df_overlap)[27:50] <- paste0(colnames(df_overlap)[27:50],'_peaks2')\n",
    "\n",
    "fwrite(df_overlap,'overlap_peakids_all_me3xsetd1a.tsv',quote=F,sep='\\t',row.names=T)"
   ]
  },
  {
   "cell_type": "code",
   "execution_count": null,
   "id": "8b383dfc-6477-4c6a-8b64-1a003635ff3c",
   "metadata": {},
   "outputs": [],
   "source": [
    "#now we have a huge dataframe with the information between the overlap of each brain setd1a marker and each brain h3k4me3 marker"
   ]
  },
  {
   "cell_type": "code",
   "execution_count": null,
   "id": "6b6893b7-e06d-418c-950f-d84eb68f9f3e",
   "metadata": {},
   "outputs": [],
   "source": [
    "#\n",
    "dim(df_overlap)\n",
    "head(df_overlap)\n",
    "\n",
    "#for example, in row1 :\n",
    "# the peak 'Brain3_me3_1' from Brain 3 H3K4me3 sample overlapped with 'Brain3_atlas_1', which is the Peak 1 from SETD1A Atlas from Brain 3!"
   ]
  },
  {
   "cell_type": "code",
   "execution_count": null,
   "id": "ea164e08-ead2-499b-a2fe-ce9c87b0bd93",
   "metadata": {},
   "outputs": [],
   "source": [
    "#we could use this information to create a dataframe with all the quantities / percentage of overlapped peaks:"
   ]
  },
  {
   "cell_type": "code",
   "execution_count": null,
   "id": "5b3596cd-112d-40a7-ab65-5ad1e7d52764",
   "metadata": {},
   "outputs": [],
   "source": []
  },
  {
   "cell_type": "code",
   "execution_count": null,
   "id": "4d923ff5-376d-4ef5-a92c-c9f8135353d7",
   "metadata": {},
   "outputs": [],
   "source": [
    "seta_tag <- data.frame(SetA = c('Brain1_me3','Brain2_me3','Brain3_me3'),\n",
    "                       SetA_universe = c(7807,7822,8089)\n",
    "                      )\n",
    "\n",
    "\n",
    "setb_tag <- data.frame(SetB = c('Brain1_atlas','Brain1_cst','Brain2_atlas','Brain2_cst','Brain3_atlas','Brain3_cst'),\n",
    "                       SetB_universe = c(6425, 5512, 8516, 3836, 9730, 4461)\n",
    "                       )\n",
    "\n",
    "\n"
   ]
  },
  {
   "cell_type": "code",
   "execution_count": null,
   "id": "42ae1636-6b64-44bc-b9ba-e42a5898254e",
   "metadata": {},
   "outputs": [],
   "source": [
    "#df_overlap$peak_id[1:10]"
   ]
  },
  {
   "cell_type": "code",
   "execution_count": null,
   "id": "af0327d5-f064-44cb-b253-83cb35f4c104",
   "metadata": {},
   "outputs": [],
   "source": [
    "#individual overlap by each brain me3 x each brain setd1a\n",
    "\n",
    "df_overlap_all <- table(df_overlap$old_peak_id, df_overlap$old_peak_id_peaks2) %>% \n",
    "                as.data.frame() %>%\n",
    "                rename('Var1' = 'SetA', 'Var2' = 'SetB', 'Freq' = 'Overlap') %>%\n",
    "                left_join(seta_tag) %>%\n",
    "                left_join(setb_tag) %>%\n",
    "                #mutate(percentage_overlap = Overlap / (SetA_universe + SetB_universe - Overlap)) %>%\n",
    "                mutate(percentage_overlap = Overlap / SetB_universe) %>%\n",
    "                relocate(SetA,SetB,SetA_universe,SetB_universe,Overlap,percentage_overlap)\n",
    "\n",
    "\n",
    "df_overlap_all\n",
    "\n",
    "fwrite(df_overlap_all,'overlap_summary_all_me3xsetd1a.tsv',quote=F,sep='\\t',row.names=F)"
   ]
  },
  {
   "cell_type": "code",
   "execution_count": null,
   "id": "74f4fae1-e1c3-4ab5-9c19-a54b9fff3b1f",
   "metadata": {},
   "outputs": [],
   "source": [
    "# for example, if you want to save all the overlaps between Brain 3 H3K4me3 and Brain 2 SETD1A atlas, you just need to:\n",
    "\n",
    "# Brain3_me3\tBrain2_atlas\n",
    "\n",
    "df_cut <- subset(df_overlap, (old_peak_id == 'Brain3_me3' & old_peak_id_peaks2 == 'Brain2_atlas'))\n",
    "dim(df_cut)\n",
    "head(df_cut)\n"
   ]
  },
  {
   "cell_type": "code",
   "execution_count": null,
   "id": "955e3447-0fec-461a-aeeb-a5bf6623e236",
   "metadata": {},
   "outputs": [],
   "source": [
    "#head(df_overlap[,1:25])"
   ]
  },
  {
   "cell_type": "markdown",
   "id": "b40d0ad3-1116-45ee-921d-1baa3b8e4a3e",
   "metadata": {},
   "source": [
    "### do the same thing, but now with the overlap between each setd1a marker/brain with stringent me3 peaks:"
   ]
  },
  {
   "cell_type": "code",
   "execution_count": null,
   "id": "479c3afb-702e-4515-911c-44bd379e07db",
   "metadata": {},
   "outputs": [],
   "source": []
  },
  {
   "cell_type": "code",
   "execution_count": null,
   "id": "6f291297-1506-4a54-b647-a756eb52a223",
   "metadata": {},
   "outputs": [],
   "source": [
    "ol <- findOverlapsOfPeaks(A=makeGRangesFromDataFrame(me3_stringent,keep.extra.columns = T), \n",
    "                          B=makeGRangesFromDataFrame(all_setd1a, keep.extra.columns = T),\n",
    "                          ignore.strand=TRUE,\n",
    "                          connectedPeaks=\"merge\")\n",
    "#ol$overlappingPeaks\n",
    "\n",
    "\n",
    "df_overlap <- ol$overlappingPeaks[[1]] %>% as.data.frame()\n",
    "\n",
    "\n",
    "\n",
    "colnames(df_overlap)[23:46] <- paste0(colnames(df_overlap)[23:46],'_peaks2')\n",
    "\n",
    "\n",
    "\n",
    "fwrite(df_overlap,'overlap_peakids_stringent_me3xsetd1a.tsv',quote=F,sep='\\t',row.names=T)"
   ]
  },
  {
   "cell_type": "code",
   "execution_count": null,
   "id": "0bd5e816-fb21-41aa-8b9a-89db5ef2bf39",
   "metadata": {},
   "outputs": [],
   "source": [
    "#colnames(df_overlap)[23:46]"
   ]
  },
  {
   "cell_type": "code",
   "execution_count": null,
   "id": "e1da40ec-0ec5-447f-b7ad-a2992e3294a0",
   "metadata": {},
   "outputs": [],
   "source": [
    "#colnames(df_overlap)"
   ]
  },
  {
   "cell_type": "code",
   "execution_count": null,
   "id": "6e208106-afc5-495e-a696-1ce360c03511",
   "metadata": {},
   "outputs": [],
   "source": [
    "seta_tag <- data.frame(SetA = c('stringent_me3'),\n",
    "                       SetA_universe = c(7889)\n",
    "                      )\n",
    "\n",
    " \n",
    "setb_tag <- data.frame(SetB = c('Brain1_atlas','Brain1_cst','Brain2_atlas','Brain2_cst','Brain3_atlas','Brain3_cst'),\n",
    "                       SetB_universe = c(6425, 5512, 8516, 3836, 9730, 4461)\n",
    "                       )\n"
   ]
  },
  {
   "cell_type": "code",
   "execution_count": null,
   "id": "052eecb8-bea2-48e7-92b9-5747e8918d5f",
   "metadata": {},
   "outputs": [],
   "source": [
    "dim(me3_stringent)"
   ]
  },
  {
   "cell_type": "code",
   "execution_count": null,
   "id": "3516211b-b9f0-41fb-b0a3-fa60691ec199",
   "metadata": {},
   "outputs": [],
   "source": [
    "df_overlap_all <- table(df_overlap$sample_id, df_overlap$old_peak_id_peaks2) %>% \n",
    "                as.data.frame() %>%\n",
    "                rename('Var1' = 'SetA', 'Var2' = 'SetB', 'Freq' = 'Overlap') %>%\n",
    "                left_join(seta_tag) %>%\n",
    "                left_join(setb_tag) %>%\n",
    "                #mutate(percentage_overlap = Overlap / (SetA_universe + SetB_universe - Overlap)) %>%\n",
    "                mutate(percentage_overlap = Overlap / SetB_universe) %>%\n",
    "                relocate(SetA,SetB,SetA_universe,SetB_universe,Overlap,percentage_overlap)\n",
    "\n",
    "\n",
    "df_overlap_all\n",
    "\n",
    "\n",
    "fwrite(df_overlap_all,'overlap_summary_stringent_me3xsetd1a.tsv',quote=F,sep='\\t',row.names=T)"
   ]
  },
  {
   "cell_type": "code",
   "execution_count": null,
   "id": "8d9bddc3-fdac-419b-a2b2-d31ea7cb6682",
   "metadata": {},
   "outputs": [],
   "source": [
    "\n",
    "\n",
    "df_cut <- subset(df_overlap, (old_peak_id_peaks2 == 'Brain2_atlas'))\n",
    "dim(df_cut)\n",
    "head(df_cut)"
   ]
  }
 ],
 "metadata": {
  "kernelspec": {
   "display_name": "R",
   "language": "R",
   "name": "ir"
  },
  "language_info": {
   "codemirror_mode": "r",
   "file_extension": ".r",
   "mimetype": "text/x-r-source",
   "name": "R",
   "pygments_lexer": "r",
   "version": "4.1.2"
  }
 },
 "nbformat": 4,
 "nbformat_minor": 5
}
